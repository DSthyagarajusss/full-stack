{
 "cells": [
  {
   "cell_type": "code",
   "execution_count": 1,
   "id": "d639dd68-fc65-43e5-87aa-c65eef12187e",
   "metadata": {},
   "outputs": [],
   "source": [
    "#constracter :--\n",
    "# is a spical method and at a time of constarcter crateing object initilize th object values \n",
    "# constarcter invoke automtically  only once at the time of object cration \n",
    "# we cont invoke constacter method explety\n"
   ]
  },
  {
   "cell_type": "code",
   "execution_count": 7,
   "id": "df53e904-800d-4835-8631-aa32b1b6725b",
   "metadata": {},
   "outputs": [
    {
     "name": "stdout",
     "output_type": "stream",
     "text": [
      "test class-- constarcter method \n",
      "test class-- constarcter method \n"
     ]
    },
    {
     "data": {
      "text/plain": [
       "<function __main__.test.m3()>"
      ]
     },
     "execution_count": 7,
     "metadata": {},
     "output_type": "execute_result"
    }
   ],
   "source": [
    "#ex for constarcter\n",
    "\n",
    "class test:\n",
    "    def __init__(self):\n",
    "        print('test class-- constarcter method ')\n",
    "    def m1(self):\n",
    "        print('test class ---- instance method')\n",
    "    @classmethod  # class method decorater\n",
    "    def m2(cls):\n",
    "        print('test class --class method')\n",
    "    @staticmethod #static method decorater\n",
    "    def m3():\n",
    "        print('test class --- static metod')\n",
    "t1=test()\n",
    "t2=test()\n",
    "t1.m1\n",
    "t2.m2\n",
    "t1.m3"
   ]
  },
  {
   "cell_type": "code",
   "execution_count": 10,
   "id": "838b1c6e-be64-46a1-badb-75dce8de30d3",
   "metadata": {},
   "outputs": [
    {
     "name": "stdout",
     "output_type": "stream",
     "text": [
      "account class -constarter method \n",
      "diposite amount -- instace method\n"
     ]
    }
   ],
   "source": [
    "#constracter for account:::\n",
    "class account:\n",
    "    def __init__(self):\n",
    "        print('account class -constarter method ')\n",
    "    def deposit_amount(self,amount):\n",
    "        print('diposite amount -- instace method')\n",
    "a1=account()\n",
    "a1.deposit_amount(474)\n",
    "        "
   ]
  },
  {
   "cell_type": "code",
   "execution_count": 24,
   "id": "7f6fb8d0-d132-4058-baf9-5c47571865e5",
   "metadata": {},
   "outputs": [
    {
     "ename": "NameError",
     "evalue": "name 'amount' is not defined",
     "output_type": "error",
     "traceback": [
      "\u001b[1;31m---------------------------------------------------------------------------\u001b[0m",
      "\u001b[1;31mNameError\u001b[0m                                 Traceback (most recent call last)",
      "Cell \u001b[1;32mIn[24], line 17\u001b[0m\n\u001b[0;32m     15\u001b[0m \u001b[38;5;66;03m#a1.withdraw_amount(0.111100006567755335533534434431)\u001b[39;00m\n\u001b[0;32m     16\u001b[0m a2\u001b[38;5;241m=\u001b[39maccount(\u001b[38;5;241m102\u001b[39m,\u001b[38;5;124m'\u001b[39m\u001b[38;5;124mraku\u001b[39m\u001b[38;5;124m'\u001b[39m,\u001b[38;5;241m79779\u001b[39m)\n\u001b[1;32m---> 17\u001b[0m \u001b[43ma2\u001b[49m\u001b[38;5;241;43m.\u001b[39;49m\u001b[43mwithdraw_amount\u001b[49m\u001b[43m(\u001b[49m\u001b[38;5;241;43m0.111100006567755335533534434431\u001b[39;49m\u001b[43m)\u001b[49m\n\u001b[0;32m     18\u001b[0m a3\u001b[38;5;241m=\u001b[39maccount(\u001b[38;5;241m103\u001b[39m,\u001b[38;5;124m'\u001b[39m\u001b[38;5;124mkumar\u001b[39m\u001b[38;5;124m'\u001b[39m,\u001b[38;5;241m779\u001b[39m)\n\u001b[0;32m     19\u001b[0m a3\u001b[38;5;241m.\u001b[39mdiposit_amount(\u001b[38;5;241m7363\u001b[39m)\n",
      "Cell \u001b[1;32mIn[24], line 10\u001b[0m, in \u001b[0;36maccount.withdraw_amount\u001b[1;34m(self, amout)\u001b[0m\n\u001b[0;32m      9\u001b[0m \u001b[38;5;28;01mdef\u001b[39;00m \u001b[38;5;21mwithdraw_amount\u001b[39m(\u001b[38;5;28mself\u001b[39m,amout):\n\u001b[1;32m---> 10\u001b[0m     \u001b[38;5;28mself\u001b[39m\u001b[38;5;241m.\u001b[39macc_bal\u001b[38;5;241m=\u001b[39m\u001b[38;5;28mself\u001b[39m\u001b[38;5;241m.\u001b[39macc_bal\u001b[38;5;241m-\u001b[39m\u001b[43mamount\u001b[49m\n",
      "\u001b[1;31mNameError\u001b[0m: name 'amount' is not defined"
     ]
    }
   ],
   "source": [
    "class account:\n",
    "    min_bal=500   #static variable    \n",
    "    def __init__(self,id,name,amount):\n",
    "        self.acc_id=id\n",
    "        self.acc_name=name\n",
    "        self.acc_bal=amount\n",
    "    def diposit_amount(self,amount):\n",
    "        self.acc_bal=self.acc_bal+amount\n",
    "    def withdraw_amount(self,amout):\n",
    "        self.acc_bal=self.acc_bal-amount\n",
    "a1=account(101,'rahuk',7)\n",
    "a1.diposit_amount(922)\n",
    "a1.diposit_amount(1922)\n",
    "a1.diposit_amount(0.111100006567755335533534434431)\n",
    "#a1.withdraw_amount(0.111100006567755335533534434431)\n",
    "a2=account(102,'raku',79779)\n",
    "#a2.withdraw_amount(0.111100006567755335533534434431)\n",
    "a3=account(103,'kumar',779)\n",
    "a3.diposit_amount(7363)\n",
    "print(a1.__dict__)\n",
    "print(a2.__dict__)\n",
    "print(a3.__dict__)"
   ]
  },
  {
   "cell_type": "code",
   "execution_count": null,
   "id": "35702f2b-6eb3-49c1-8e34-2bba8b18ac09",
   "metadata": {},
   "outputs": [],
   "source": []
  }
 ],
 "metadata": {
  "kernelspec": {
   "display_name": "Python 3 (ipykernel)",
   "language": "python",
   "name": "python3"
  },
  "language_info": {
   "codemirror_mode": {
    "name": "ipython",
    "version": 3
   },
   "file_extension": ".py",
   "mimetype": "text/x-python",
   "name": "python",
   "nbconvert_exporter": "python",
   "pygments_lexer": "ipython3",
   "version": "3.12.5"
  }
 },
 "nbformat": 4,
 "nbformat_minor": 5
}
