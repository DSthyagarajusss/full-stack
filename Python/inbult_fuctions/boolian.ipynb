{
 "cells": [
  {
   "cell_type": "code",
   "execution_count": 2,
   "id": "d32abb68-ab01-4d7f-9afe-1f3e91784785",
   "metadata": {},
   "outputs": [
    {
     "name": "stdout",
     "output_type": "stream",
     "text": [
      "True\n"
     ]
    }
   ],
   "source": [
    "#vlaue is 0 false value is more then 0 true\n",
    "a=9\n",
    "print(bool(a))"
   ]
  },
  {
   "cell_type": "code",
   "execution_count": null,
   "id": "404b0d1d-5981-4860-9a44-ac81b7f3fbab",
   "metadata": {},
   "outputs": [],
   "source": [
    "#how to convert bool to "
   ]
  }
 ],
 "metadata": {
  "kernelspec": {
   "display_name": "Python 3 (ipykernel)",
   "language": "python",
   "name": "python3"
  },
  "language_info": {
   "codemirror_mode": {
    "name": "ipython",
    "version": 3
   },
   "file_extension": ".py",
   "mimetype": "text/x-python",
   "name": "python",
   "nbconvert_exporter": "python",
   "pygments_lexer": "ipython3",
   "version": "3.12.5"
  }
 },
 "nbformat": 4,
 "nbformat_minor": 5
}
