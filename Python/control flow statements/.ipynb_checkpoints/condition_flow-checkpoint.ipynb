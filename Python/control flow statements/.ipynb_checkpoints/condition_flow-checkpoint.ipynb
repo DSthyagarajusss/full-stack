{
 "cells": [
  {
   "cell_type": "code",
   "execution_count": 3,
   "id": "a39fb0e1-85bb-44e8-a95b-0a90140eb180",
   "metadata": {},
   "outputs": [
    {
     "name": "stdout",
     "output_type": "stream",
     "text": [
      "eligible for lone\n"
     ]
    }
   ],
   "source": [
    "#no swith statement in conditional statements\n",
    "# if( condition is true if is excute)\n",
    "sal=50000\n",
    "if sal>40000:\n",
    "    print('eligible for lone')"
   ]
  },
  {
   "cell_type": "code",
   "execution_count": 5,
   "id": "db5542ae-71e2-4059-aef8-a456c4f10c61",
   "metadata": {},
   "outputs": [
    {
     "name": "stdin",
     "output_type": "stream",
     "text": [
      "enter your salary 30000\n"
     ]
    },
    {
     "name": "stdout",
     "output_type": "stream",
     "text": [
      "we are rejecting your application\n"
     ]
    }
   ],
   "source": [
    "#if-else statement\n",
    "sal=int(input('enter your salary'))\n",
    "if sal>40000:\n",
    "    print('eligible for lone')\n",
    "else:\n",
    "    print('we are rejecting your application')"
   ]
  },
  {
   "cell_type": "code",
   "execution_count": 11,
   "id": "bbd981ab-601d-4c73-a7db-361d9a6f4c48",
   "metadata": {},
   "outputs": [
    {
     "name": "stdin",
     "output_type": "stream",
     "text": [
      "enter a number 32\n"
     ]
    },
    {
     "ename": "NameError",
     "evalue": "name 'num' is not defined",
     "output_type": "error",
     "traceback": [
      "\u001b[1;31m---------------------------------------------------------------------------\u001b[0m",
      "\u001b[1;31mNameError\u001b[0m                                 Traceback (most recent call last)",
      "Cell \u001b[1;32mIn[11], line 4\u001b[0m\n\u001b[0;32m      1\u001b[0m \u001b[38;5;66;03m# write a program to given number is three digit number or not\u001b[39;00m\n\u001b[0;32m      3\u001b[0m number\u001b[38;5;241m=\u001b[39m\u001b[38;5;28mint\u001b[39m(\u001b[38;5;28minput\u001b[39m(\u001b[38;5;124m'\u001b[39m\u001b[38;5;124menter a number\u001b[39m\u001b[38;5;124m'\u001b[39m))\n\u001b[1;32m----> 4\u001b[0m \u001b[38;5;28;01mif\u001b[39;00m number\u001b[38;5;241m>\u001b[39m\u001b[38;5;241m=\u001b[39m\u001b[38;5;241m100\u001b[39m \u001b[38;5;241m/\u001b[39m \u001b[43mnum\u001b[49m\u001b[38;5;241m<\u001b[39m\u001b[38;5;241m=\u001b[39m\u001b[38;5;241m999\u001b[39m:\n\u001b[0;32m      5\u001b[0m     \u001b[38;5;28mprint\u001b[39m(\u001b[38;5;124m'\u001b[39m\u001b[38;5;124mgiven number is three digit number\u001b[39m\u001b[38;5;124m'\u001b[39m)\n\u001b[0;32m      6\u001b[0m \u001b[38;5;28;01melse\u001b[39;00m:\n",
      "\u001b[1;31mNameError\u001b[0m: name 'num' is not defined"
     ]
    }
   ],
   "source": [
    "# write a program to given number is three digit number or not\n",
    "\n",
    "number=int(input('enter a number'))\n",
    "if number>=100 and num<=999:\n",
    "    print('given number is three digit number')\n",
    "else:\n",
    "     print('not three digit number')\n",
    "           \n",
    " "
   ]
  },
  {
   "cell_type": "code",
   "execution_count": null,
   "id": "3b6fb14c-9d24-4996-8607-5a96a54186b8",
   "metadata": {},
   "outputs": [],
   "source": []
  }
 ],
 "metadata": {
  "kernelspec": {
   "display_name": "Python 3 (ipykernel)",
   "language": "python",
   "name": "python3"
  },
  "language_info": {
   "codemirror_mode": {
    "name": "ipython",
    "version": 3
   },
   "file_extension": ".py",
   "mimetype": "text/x-python",
   "name": "python",
   "nbconvert_exporter": "python",
   "pygments_lexer": "ipython3",
   "version": "3.12.5"
  }
 },
 "nbformat": 4,
 "nbformat_minor": 5
}
