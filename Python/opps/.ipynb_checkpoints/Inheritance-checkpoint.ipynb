{
 "cells": [
  {
   "cell_type": "raw",
   "id": "87ff4723-b4c9-4db2-8ee4-0d1f83978024",
   "metadata": {},
   "source": [
    "# inheritance :\n",
    "# inherits class propertice from  one class to another class\n",
    "types of inheritance\n",
    "1.single: its only one class to anthor class\n",
    "ex:\n",
    "class raju:\n",
    "    pass\n",
    "class child(raju):\n",
    "    pass\n",
    "2.multipul: one or more\n",
    "ex:\n",
    "class p1:\n",
    "    pass\n",
    "class p2:\n",
    "    pass\n",
    "class child(p1,p2):\n",
    "    pass\n",
    "3.multi-level: one or more it excute one bye one \n",
    "ex:\n",
    "class p1:\n",
    "    pass\n",
    "class p2:\n",
    "    pass\n",
    "class child:\n",
    "    pass\n",
    "4.herararical:\n",
    "its in note book \n",
    "5.hybirad:\n",
    "its in note book \n"
   ]
  },
  {
   "cell_type": "code",
   "execution_count": 1,
   "id": "eaaf621d-9baf-4564-855e-675b5528ff60",
   "metadata": {},
   "outputs": [
    {
     "name": "stdout",
     "output_type": "stream",
     "text": [
      "Parent class - m1 method\n",
      "Parent class - m2 method\n",
      "Child class - m3 method\n"
     ]
    }
   ],
   "source": [
    "# single inheritance:\n",
    "class Parent:\n",
    "    def m1(self):# self is incetce method\n",
    "        print(\"Parent class - m1 method\")\n",
    "    def m2(self):\n",
    "        print(\"Parent class - m2 method\")\n",
    "        \n",
    "class Child(Parent):\n",
    "    def m3(self):\n",
    "        print(\"Child class - m3 method\")\n",
    "\n",
    "obj=Child()\n",
    "obj.m1()\n",
    "obj.m2()\n",
    "obj.m3()\n",
    "    "
   ]
  },
  {
   "cell_type": "code",
   "execution_count": 3,
   "id": "78002cb3-a007-4719-b64d-3bc79a4353c5",
   "metadata": {},
   "outputs": [
    {
     "name": "stdout",
     "output_type": "stream",
     "text": [
      "grand perent class - m1 method\n",
      "Parent class - m2 method\n",
      "Child class - m3 method\n"
     ]
    }
   ],
   "source": [
    "#multi-level inhritance::\n",
    "class GP:\n",
    "    def m1(self):# self is incetce method\n",
    "        print(\"grand perent class - m1 method\")\n",
    "    \n",
    "class perent(GP):\n",
    "    def m2(self):\n",
    "        print(\"Parent class - m2 method\")\n",
    "class child(perent):\n",
    "     def m3(self):\n",
    "        print(\"Child class - m3 method\")\n",
    "obj=child()\n",
    "obj.m1()\n",
    "obj.m2()\n",
    "obj.m3()"
   ]
  },
  {
   "cell_type": "code",
   "execution_count": 5,
   "id": "926aec91-41ed-4fec-bade-f3af6dc92bef",
   "metadata": {},
   "outputs": [
    {
     "name": "stdout",
     "output_type": "stream",
     "text": [
      " perent-1 class - m1 method\n",
      " perent-2 class - m2 method\n",
      "Child class - m3 method\n"
     ]
    }
   ],
   "source": [
    "#multipule inheritance::\n",
    "class p1:\n",
    "    def m1(self):# self is incetce method\n",
    "        print(\" perent-1 class - m1 method\")\n",
    "class p2:\n",
    "    def m2(self):# self is incetce method\n",
    "        print(\" perent-2 class - m2 method\")\n",
    "class child(p1,p2):\n",
    "    def m3(self):\n",
    "        print(\"Child class - m3 method\")\n",
    "obj=child()\n",
    "obj.m1()\n",
    "obj.m2()\n",
    "obj.m3()   "
   ]
  },
  {
   "cell_type": "code",
   "execution_count": null,
   "id": "1b8c52c5-169f-4fee-8bc9-84a5ca54e009",
   "metadata": {},
   "outputs": [],
   "source": []
  }
 ],
 "metadata": {
  "kernelspec": {
   "display_name": "Python 3 (ipykernel)",
   "language": "python",
   "name": "python3"
  },
  "language_info": {
   "codemirror_mode": {
    "name": "ipython",
    "version": 3
   },
   "file_extension": ".py",
   "mimetype": "text/x-python",
   "name": "python",
   "nbconvert_exporter": "python",
   "pygments_lexer": "ipython3",
   "version": "3.12.5"
  }
 },
 "nbformat": 4,
 "nbformat_minor": 5
}
