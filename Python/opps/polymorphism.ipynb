{
 "cells": [
  {
   "cell_type": "raw",
   "id": "d372c3f7-f8e6-4af4-8cdd-04824b7c1768",
   "metadata": {},
   "source": [
    "# Polymorphism :\n",
    "1.poly -many morphism-forms \n",
    "2. a concept in Python that allows the same entity to represent different types in different contexts.\n",
    "3.objct acting as many form \n",
    "4.operater acting aas many form"
   ]
  },
  {
   "cell_type": "code",
   "execution_count": 1,
   "id": "b89eb61d-ffbc-489a-93e1-9baea31853f2",
   "metadata": {},
   "outputs": [],
   "source": [
    "class employee():\n",
    "    def cal_tax(self):\n",
    "        print('employee class -cal_tax')\n",
    "class Accout:\n",
    "    def cal_tax(self):\n",
    "        print('account class cal_tax')\n",
    "class user:\n",
    "    def cal_tax(self):\n",
    "        print('user class cal_tax')\n"
   ]
  },
  {
   "cell_type": "code",
   "execution_count": 4,
   "id": "8c69de56-05d7-4529-9d6c-ebca59f65056",
   "metadata": {},
   "outputs": [
    {
     "ename": "ModuleNotFoundError",
     "evalue": "No module named 'poly'",
     "output_type": "error",
     "traceback": [
      "\u001b[1;31m---------------------------------------------------------------------------\u001b[0m",
      "\u001b[1;31mModuleNotFoundError\u001b[0m                       Traceback (most recent call last)",
      "Cell \u001b[1;32mIn[4], line 1\u001b[0m\n\u001b[1;32m----> 1\u001b[0m \u001b[38;5;28;01mfrom\u001b[39;00m \u001b[38;5;21;01mpoly\u001b[39;00m \u001b[38;5;28;01mimport\u001b[39;00m \u001b[38;5;241m*\u001b[39m\n\u001b[0;32m      3\u001b[0m \u001b[38;5;28;01mdef\u001b[39;00m \u001b[38;5;21mexce\u001b[39m(obj):\n\u001b[0;32m      4\u001b[0m     obj\u001b[38;5;241m.\u001b[39mcal_tax()\n",
      "\u001b[1;31mModuleNotFoundError\u001b[0m: No module named 'poly'"
     ]
    }
   ],
   "source": [
    "from poly import *\n",
    "\n",
    "def exce(obj):\n",
    "    obj.cal_tax()\n",
    "exce(employee())\n",
    "exce(user())\n",
    "exce(account())"
   ]
  },
  {
   "cell_type": "code",
   "execution_count": null,
   "id": "1b69f150-bc92-4d2d-b02e-617830af21d4",
   "metadata": {},
   "outputs": [],
   "source": []
  }
 ],
 "metadata": {
  "kernelspec": {
   "display_name": "Python 3 (ipykernel)",
   "language": "python",
   "name": "python3"
  },
  "language_info": {
   "codemirror_mode": {
    "name": "ipython",
    "version": 3
   },
   "file_extension": ".py",
   "mimetype": "text/x-python",
   "name": "python",
   "nbconvert_exporter": "python",
   "pygments_lexer": "ipython3",
   "version": "3.12.5"
  }
 },
 "nbformat": 4,
 "nbformat_minor": 5
}
