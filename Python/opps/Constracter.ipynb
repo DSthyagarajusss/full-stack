{
 "cells": [
  {
   "cell_type": "code",
   "execution_count": 1,
   "id": "d639dd68-fc65-43e5-87aa-c65eef12187e",
   "metadata": {},
   "outputs": [],
   "source": [
    "#constracter :--\n",
    "# is a spical method and at a time of constarcter crateing object initilize th object values \n",
    "# constarcter invoke automtically  only once at the time of object cration \n",
    "# we cont invoke constacter method explety\n"
   ]
  },
  {
   "cell_type": "code",
   "execution_count": 7,
   "id": "df53e904-800d-4835-8631-aa32b1b6725b",
   "metadata": {},
   "outputs": [
    {
     "name": "stdout",
     "output_type": "stream",
     "text": [
      "test class-- constarcter method \n",
      "test class-- constarcter method \n"
     ]
    },
    {
     "data": {
      "text/plain": [
       "<function __main__.test.m3()>"
      ]
     },
     "execution_count": 7,
     "metadata": {},
     "output_type": "execute_result"
    }
   ],
   "source": [
    "#ex for constarcter\n",
    "\n",
    "class test:\n",
    "    def __init__(self):\n",
    "        print('test class-- constarcter method ')\n",
    "    def m1(self):\n",
    "        print('test class ---- instance method')\n",
    "    @classmethod  # class method decorater\n",
    "    def m2(cls):\n",
    "        print('test class --class method')\n",
    "    @staticmethod #static method decorater\n",
    "    def m3():\n",
    "        print('test class --- static metod')\n",
    "t1=test()\n",
    "t2=test()\n",
    "t1.m1\n",
    "t2.m2\n",
    "t1.m3"
   ]
  },
  {
   "cell_type": "code",
   "execution_count": 10,
   "id": "838b1c6e-be64-46a1-badb-75dce8de30d3",
   "metadata": {},
   "outputs": [
    {
     "name": "stdout",
     "output_type": "stream",
     "text": [
      "account class -constarter method \n",
      "diposite amount -- instace method\n"
     ]
    }
   ],
   "source": [
    "#constracter for account:::\n",
    "class account:\n",
    "    def __init__(self):\n",
    "        print('account class -constarter method ')\n",
    "    def deposit_amount(self,amount):\n",
    "        print('diposite amount -- instace method')\n",
    "a1=account()\n",
    "a1.deposit_amount(474)\n",
    "        "
   ]
  },
  {
   "cell_type": "code",
   "execution_count": 3,
   "id": "7f6fb8d0-d132-4058-baf9-5c47571865e5",
   "metadata": {},
   "outputs": [
    {
     "name": "stdout",
     "output_type": "stream",
     "text": [
      "{'acc_id': 101, 'acc_name': 'rahuk', 'acc_bal': 2851.0}\n",
      "{'acc_id': 102, 'acc_name': 'raku', 'acc_bal': 79779}\n",
      "{'acc_id': 103, 'acc_name': 'kumar', 'acc_bal': 8142}\n"
     ]
    }
   ],
   "source": [
    "class account:\n",
    "    min_bal=500   #static variable    \n",
    "    def __init__(self,id,name,amount):# constracter method\n",
    "        self.acc_id=id\n",
    "        self.acc_name=name\n",
    "        self.acc_bal=amount\n",
    "    def diposit_amount(self,amount):\n",
    "        self.acc_bal=self.acc_bal+amount\n",
    "    def withdraw_amount(self,amount):\n",
    "        self.acc_bal=self.acc_bal-amount\n",
    "a1=account(101,'rahuk',7)\n",
    "a1.diposit_amount(922)\n",
    "a1.diposit_amount(1922)\n",
    "a1.diposit_amount(0.111100006567755335533534434431)\n",
    "a1.withdraw_amount(0.111100006567755335533534434431)\n",
    "a2=account(102,'raku',79779)\n",
    "#a2.withdraw_amount(0.111100006567755335533534434431)\n",
    "a3=account(103,'kumar',779)\n",
    "a3.diposit_amount(7363)\n",
    "print(a1.__dict__)\n",
    "print(a2.__dict__)\n",
    "print(a3.__dict__)"
   ]
  },
  {
   "cell_type": "code",
   "execution_count": null,
   "id": "35702f2b-6eb3-49c1-8e34-2bba8b18ac09",
   "metadata": {},
   "outputs": [],
   "source": []
  }
 ],
 "metadata": {
  "kernelspec": {
   "display_name": "Python 3 (ipykernel)",
   "language": "python",
   "name": "python3"
  },
  "language_info": {
   "codemirror_mode": {
    "name": "ipython",
    "version": 3
   },
   "file_extension": ".py",
   "mimetype": "text/x-python",
   "name": "python",
   "nbconvert_exporter": "python",
   "pygments_lexer": "ipython3",
   "version": "3.12.5"
  }
 },
 "nbformat": 4,
 "nbformat_minor": 5
}
