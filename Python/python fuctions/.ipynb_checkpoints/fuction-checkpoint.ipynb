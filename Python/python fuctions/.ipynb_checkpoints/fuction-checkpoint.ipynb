{
 "cells": [
  {
   "cell_type": "code",
   "execution_count": 4,
   "id": "3f67376a-edf8-434d-b82c-e58c04f85953",
   "metadata": {},
   "outputs": [
    {
     "ename": "TypeError",
     "evalue": "add() takes 0 positional arguments but 2 were given",
     "output_type": "error",
     "traceback": [
      "\u001b[1;31m---------------------------------------------------------------------------\u001b[0m",
      "\u001b[1;31mTypeError\u001b[0m                                 Traceback (most recent call last)",
      "Cell \u001b[1;32mIn[4], line 3\u001b[0m\n\u001b[0;32m      1\u001b[0m \u001b[38;5;28;01mdef\u001b[39;00m \u001b[38;5;21madd\u001b[39m():\n\u001b[0;32m      2\u001b[0m     \u001b[38;5;28mprint\u001b[39m(\u001b[38;5;124m\"\u001b[39m\u001b[38;5;124maddition\u001b[39m\u001b[38;5;124m\"\u001b[39m)\n\u001b[1;32m----> 3\u001b[0m \u001b[43madd\u001b[49m\u001b[43m(\u001b[49m\u001b[38;5;241;43m10\u001b[39;49m\u001b[43m,\u001b[49m\u001b[38;5;241;43m20\u001b[39;49m\u001b[43m)\u001b[49m\n",
      "\u001b[1;31mTypeError\u001b[0m: add() takes 0 positional arguments but 2 were given"
     ]
    }
   ],
   "source": [
    "def add():\n",
    "    print(\"addition\")\n",
    "add(10,20)\n"
   ]
  },
  {
   "cell_type": "code",
   "execution_count": 16,
   "id": "d9b81b85-0974-4fc0-ac8f-335e277c38b5",
   "metadata": {},
   "outputs": [
    {
     "name": "stdout",
     "output_type": "stream",
     "text": [
      "5\n",
      "23682175792\n"
     ]
    }
   ],
   "source": [
    "def add(a,b,C,D):\n",
    "    return a+b\n",
    "r1=add(2,3,4,5)\n",
    "r2=add(7815801443,15866374349,23682175792,8050572906)\n",
    "print(r1)\n",
    "print(r2)"
   ]
  },
  {
   "cell_type": "code",
   "execution_count": 2,
   "id": "4b2803af-d7af-4597-b529-0ee4384a5015",
   "metadata": {},
   "outputs": [
    {
     "name": "stdout",
     "output_type": "stream",
     "text": [
      "30\n"
     ]
    }
   ],
   "source": [
    "# actual arguments are 4 types\n",
    "# positional arguments\n",
    "\n",
    "def calc(a,b):\n",
    "    print(a+b)\n",
    "calc(10,20)"
   ]
  },
  {
   "cell_type": "code",
   "execution_count": 4,
   "id": "0e0ce057-81c8-4ee4-b20a-a97e03c4102a",
   "metadata": {},
   "outputs": [
    {
     "name": "stdout",
     "output_type": "stream",
     "text": [
      "40\n",
      "24\n",
      "11\n"
     ]
    }
   ],
   "source": [
    "# defulte argument\n",
    "def calc(a,b,c=1):\n",
    "    print(a+b+c)\n",
    "calc(10,10,20)\n",
    "calc(21,2)\n",
    "calc(1,9)"
   ]
  },
  {
   "cell_type": "code",
   "execution_count": 5,
   "id": "d1fae403-d552-4f61-ad47-5651ec12b441",
   "metadata": {},
   "outputs": [
    {
     "name": "stdout",
     "output_type": "stream",
     "text": [
      "-10\n",
      "10\n"
     ]
    }
   ],
   "source": [
    "# positional arguments\n",
    "\n",
    "def calc(a,b):\n",
    "    print(a-b)\n",
    "calc(10,20)\n",
    "calc(20,10)"
   ]
  },
  {
   "cell_type": "code",
   "execution_count": 7,
   "id": "027e449d-fdc9-4480-acca-0406d83b39de",
   "metadata": {},
   "outputs": [
    {
     "name": "stdout",
     "output_type": "stream",
     "text": [
      "-100\n",
      "-100\n"
     ]
    }
   ],
   "source": [
    "#keyword argumnets:\n",
    "\n",
    "def calc(a,b):\n",
    "    print(a-b)\n",
    "calc(a=100,b=200)\n",
    "calc(b=200,a=100)"
   ]
  },
  {
   "cell_type": "code",
   "execution_count": 3,
   "id": "c51b646a-a073-403b-9601-aabd32f3b635",
   "metadata": {},
   "outputs": [
    {
     "name": "stdout",
     "output_type": "stream",
     "text": [
      "()\n",
      "<class 'tuple'>\n",
      "(10, 20)\n",
      "<class 'tuple'>\n",
      "(10, 20, 30)\n",
      "<class 'tuple'>\n",
      "(10, 20, 30, 40)\n",
      "<class 'tuple'>\n"
     ]
    }
   ],
   "source": [
    "# variable length argument\n",
    "def calc(*a):\n",
    "    print(a)\n",
    "    print(type(a))\n",
    "calc()\n",
    "calc(10,20)\n",
    "calc(10,20,30)\n",
    "calc(10,20,30,40)\n",
    "\n"
   ]
  },
  {
   "cell_type": "code",
   "execution_count": 8,
   "id": "da1037cb-f030-44ff-b9d8-ccbec89a700f",
   "metadata": {},
   "outputs": [
    {
     "name": "stdout",
     "output_type": "stream",
     "text": [
      "60\n",
      "100\n"
     ]
    }
   ],
   "source": [
    "# variable length argument\n",
    "def calc(*a):\n",
    "    print(sum(a))\n",
    "\n",
    "calc(10,20,30)\n",
    "calc(10,20,30,40)"
   ]
  },
  {
   "cell_type": "code",
   "execution_count": 10,
   "id": "8c0fab5f-2e66-44e5-8051-ee1ba2d4aa76",
   "metadata": {},
   "outputs": [
    {
     "name": "stdout",
     "output_type": "stream",
     "text": [
      "good morinig\n",
      "good affternoon\n"
     ]
    }
   ],
   "source": [
    "# how to invoke inner fucton in outer fuction\n",
    "def outer():\n",
    "    print('good morinig')\n",
    "    def inner():\n",
    "        print('good affternoon')\n",
    "    inner()\n",
    "outer()"
   ]
  },
  {
   "cell_type": "code",
   "execution_count": 16,
   "id": "167e7d6f-c77c-46fd-ae16-d19c4f97fe21",
   "metadata": {},
   "outputs": [
    {
     "name": "stdout",
     "output_type": "stream",
     "text": [
      "good morinig\n",
      "good affternoon\n",
      "None\n"
     ]
    }
   ],
   "source": [
    "#return the fuction ref\n",
    "# how to invore inner fuction out side the outer fuction\n",
    "def outre():\n",
    "    def inner():\n",
    "        return inner()\n",
    "x=outer()\n",
    "print(x)"
   ]
  },
  {
   "cell_type": "code",
   "execution_count": 18,
   "id": "f902d7c4-1181-4701-b752-ed5dea7d8a8d",
   "metadata": {},
   "outputs": [
    {
     "name": "stdout",
     "output_type": "stream",
     "text": [
      "101\n"
     ]
    }
   ],
   "source": [
    "#lambda (name less fuction)---in this we dont wont argumnets and no fuction and no need def key word also\n",
    "add=lambda x:x+1\n",
    "r1=add(100)\n",
    "print(r1)"
   ]
  },
  {
   "cell_type": "code",
   "execution_count": 2,
   "id": "78f7ea69-371d-4b5b-9f1c-cfbc4fb48006",
   "metadata": {},
   "outputs": [
    {
     "name": "stdout",
     "output_type": "stream",
     "text": [
      "[647, 445, 556, 667]\n"
     ]
    }
   ],
   "source": [
    "# map fuction ()\n",
    "\n",
    "marks=[646,444,555,666]\n",
    "def addplus(marks):\n",
    "    return marks+1\n",
    "obj=map(addplus,marks)\n",
    "print(list(obj))"
   ]
  },
  {
   "cell_type": "code",
   "execution_count": null,
   "id": "04ba49f2-1385-4e7f-90bb-c03615fa30b1",
   "metadata": {},
   "outputs": [],
   "source": []
  },
  {
   "cell_type": "code",
   "execution_count": null,
   "id": "c2a8bd77-9574-4290-bcd2-5b95e560454a",
   "metadata": {},
   "outputs": [],
   "source": []
  }
 ],
 "metadata": {
  "kernelspec": {
   "display_name": "Python 3 (ipykernel)",
   "language": "python",
   "name": "python3"
  },
  "language_info": {
   "codemirror_mode": {
    "name": "ipython",
    "version": 3
   },
   "file_extension": ".py",
   "mimetype": "text/x-python",
   "name": "python",
   "nbconvert_exporter": "python",
   "pygments_lexer": "ipython3",
   "version": "3.12.5"
  }
 },
 "nbformat": 4,
 "nbformat_minor": 5
}
