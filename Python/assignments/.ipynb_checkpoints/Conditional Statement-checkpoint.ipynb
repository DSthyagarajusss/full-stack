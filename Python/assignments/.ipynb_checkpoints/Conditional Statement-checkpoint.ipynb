{
 "cells": [
  {
   "cell_type": "code",
   "execution_count": 7,
   "id": "00b6940b-a53b-4d81-94a4-69ece311f061",
   "metadata": {},
   "outputs": [
    {
     "name": "stdin",
     "output_type": "stream",
     "text": [
      "Enter the first number:  2\n",
      "Enter the second number:  2\n"
     ]
    },
    {
     "name": "stdout",
     "output_type": "stream",
     "text": [
      "The sum of 2.0 and 2.0 is 4.0\n"
     ]
    }
   ],
   "source": [
    "#1. Write a program to read 2 numbers from the keyboard and print sum?\n",
    "\n",
    "def is_valid_number(value):\n",
    "    try:\n",
    "        float(value)\n",
    "        return True\n",
    "    except ValueError:\n",
    "        return False\n",
    "\n",
    "num1 = input(\"Enter the first number: \")\n",
    "\n",
    "\n",
    "num2 = input(\"Enter the second number: \")\n",
    "\n",
    "\n",
    "if is_valid_number(num1):\n",
    "    num1 = float(num1)\n",
    "else:\n",
    "    print(\"The first input is not a valid number.\")\n",
    "    num1 = None\n",
    "\n",
    "\n",
    "if is_valid_number(num2):\n",
    "    num2 = float(num2)\n",
    "else:\n",
    "    print(\"The second input is not a valid number.\")\n",
    "    num2 = None\n",
    "\n",
    "\n",
    "if num1 is not None and num2 is not None:\n",
    "    total = num1 + num2\n",
    "    print(f\"The sum of {num1} and {num2} is {total}\")\n",
    "else:\n",
    "    print(\"Sum cannot be calculated due to invalid input(s).\")"
   ]
  },
  {
   "cell_type": "code",
   "execution_count": 15,
   "id": "fcfd5f1f-1a1a-4086-8b8a-812833793253",
   "metadata": {},
   "outputs": [
    {
     "name": "stdout",
     "output_type": "stream",
     "text": [
      "0\t2\t4\t6\t8\t10\t12\t14\t16\t18\t"
     ]
    }
   ],
   "source": [
    "#2. How to read multiple values from the keyboard in a single line?\n",
    "for x in range(0,20,2):\n",
    "    print(x,end='\\t')"
   ]
  },
  {
   "cell_type": "code",
   "execution_count": 14,
   "id": "371588d1-9668-475b-82bd-ca44d75a038b",
   "metadata": {},
   "outputs": [
    {
     "name": "stdin",
     "output_type": "stream",
     "text": [
      "Enter a number: 7\n"
     ]
    },
    {
     "name": "stdout",
     "output_type": "stream",
     "text": [
      "7 is divisible by 7.\n"
     ]
    }
   ],
   "source": [
    "# Function to check if a number is divisible by 7\n",
    "def check_divisibility_by_7():\n",
    "    number_str = int(input(\"Enter a number:\"))\n",
    "    try:\n",
    "        number = int(number_str)\n",
    "        if number % 7 == 0:\n",
    "            print(f\"{number} is divisible by 7.\")\n",
    "        else:\n",
    "            print(f\"{number} is not divisible by 7.\")\n",
    "    \n",
    "    except ValueError:\n",
    "        print(\"Please enter a valid integer.\")\n",
    "\n",
    "check_divisibility_by_7()\n"
   ]
  },
  {
   "cell_type": "code",
   "execution_count": null,
   "id": "e6c7d19f-55c1-4554-aa44-3cbd97e451e0",
   "metadata": {},
   "outputs": [],
   "source": [
    "#4. Program to check if a number is multiple of 3 not not?\n",
    "num=int(input('enter a numbr'))\n",
    "if num %3 ==0:\n",
    "    print('mul of 3')\n",
    "else:\n",
    "    print('not mul of 3')"
   ]
  }
 ],
 "metadata": {
  "kernelspec": {
   "display_name": "Python 3 (ipykernel)",
   "language": "python",
   "name": "python3"
  },
  "language_info": {
   "codemirror_mode": {
    "name": "ipython",
    "version": 3
   },
   "file_extension": ".py",
   "mimetype": "text/x-python",
   "name": "python",
   "nbconvert_exporter": "python",
   "pygments_lexer": "ipython3",
   "version": "3.12.5"
  }
 },
 "nbformat": 4,
 "nbformat_minor": 5
}
