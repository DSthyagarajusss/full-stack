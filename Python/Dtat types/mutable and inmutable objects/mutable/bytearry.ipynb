{
 "cells": [
  {
   "cell_type": "code",
   "execution_count": 7,
   "id": "f5469c56-7eaf-4fce-a065-22cb0d1acc97",
   "metadata": {},
   "outputs": [
    {
     "name": "stdout",
     "output_type": "stream",
     "text": [
      "222\n",
      "223\n",
      "245\n",
      "255\n",
      "40\n"
     ]
    }
   ],
   "source": [
    "l1=[222,223,245,255]\n",
    "ba=bytearray(l1)\n",
    "ba.append(40)\n",
    "for x in ba:\n",
    "    print (x)\n",
    "   # print(type(ba))\n",
    "   "
   ]
  },
  {
   "cell_type": "code",
   "execution_count": null,
   "id": "1f5ffe6a-6414-4e2f-b59f-1ee04806b06e",
   "metadata": {},
   "outputs": [],
   "source": []
  }
 ],
 "metadata": {
  "kernelspec": {
   "display_name": "Python 3 (ipykernel)",
   "language": "python",
   "name": "python3"
  },
  "language_info": {
   "codemirror_mode": {
    "name": "ipython",
    "version": 3
   },
   "file_extension": ".py",
   "mimetype": "text/x-python",
   "name": "python",
   "nbconvert_exporter": "python",
   "pygments_lexer": "ipython3",
   "version": "3.12.5"
  }
 },
 "nbformat": 4,
 "nbformat_minor": 5
}
