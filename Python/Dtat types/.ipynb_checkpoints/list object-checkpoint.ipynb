{
 "cells": [
  {
   "cell_type": "code",
   "execution_count": 1,
   "id": "3cf583a1-584e-4941-a05c-d465dcb441bc",
   "metadata": {},
   "outputs": [
    {
     "name": "stdout",
     "output_type": "stream",
     "text": [
      "[1, 2, 34, 4, 5]\n"
     ]
    }
   ],
   "source": [
    "#how to create a list object\n",
    "l=[1,2,34,4,5]\n",
    "print(l)"
   ]
  },
  {
   "cell_type": "code",
   "execution_count": 4,
   "id": "78f31fb0-926e-4e1a-9223-bd0547879a2b",
   "metadata": {},
   "outputs": [
    {
     "name": "stdout",
     "output_type": "stream",
     "text": [
      "1\n",
      "2\n",
      "34\n",
      "4\n"
     ]
    }
   ],
   "source": [
    "#how to read a list object indexong\n",
    "eids=[1,2,34,4,5]\n",
    "print(eids[0])\n",
    "print(eids[1])\n",
    "print(eids[2])\n",
    "print(eids[3])"
   ]
  },
  {
   "cell_type": "code",
   "execution_count": 5,
   "id": "7799aae1-328c-46bb-803b-3cb4ae1dc1b8",
   "metadata": {},
   "outputs": [
    {
     "name": "stdout",
     "output_type": "stream",
     "text": [
      "5\n",
      "4\n",
      "34\n",
      "1\n"
     ]
    }
   ],
   "source": [
    "#how to read a list object negitive indexing\n",
    "eids=[1,2,34,4,5]\n",
    "print(eids[-1])\n",
    "print(eids[-2])\n",
    "print(eids[-3])\n",
    "print(eids[0])"
   ]
  },
  {
   "cell_type": "code",
   "execution_count": 6,
   "id": "3bb5ac0f-e533-4e2d-bc9f-750b132e1825",
   "metadata": {},
   "outputs": [
    {
     "name": "stdout",
     "output_type": "stream",
     "text": [
      "s\n",
      "d\n",
      "e\n",
      "r\n"
     ]
    }
   ],
   "source": [
    "#how to itarete list for and while\n",
    "ename=['s','d','e','r']\n",
    "for x in ename:\n",
    "    print(x)\n",
    "\n",
    "#while\n",
    "i=0\n",
    "while i<=3:\n",
    "    print(ename[i])\n",
    "    i=i+1"
   ]
  },
  {
   "cell_type": "code",
   "execution_count": 12,
   "id": "8f912e92-fa8b-4295-b722-1847212d6732",
   "metadata": {},
   "outputs": [
    {
     "name": "stdout",
     "output_type": "stream",
     "text": [
      "[0, 1, 2, 3, 4]\n"
     ]
    }
   ],
   "source": [
    "#how many ways we create a fuction\n",
    "l1=[]\n",
    "l2=[10,20,3,3,3]\n",
    "l3=list (range(0,5))\n",
    "print(l3)\n",
    "\n",
    "       \n"
   ]
  },
  {
   "cell_type": "code",
   "execution_count": 17,
   "id": "952b8089-974d-46be-9d00-3e74048298de",
   "metadata": {},
   "outputs": [
    {
     "name": "stdin",
     "output_type": "stream",
     "text": [
      "enter a number [9,0]\n"
     ]
    },
    {
     "name": "stdout",
     "output_type": "stream",
     "text": [
      "[9, 0]\n",
      "<class 'list'>\n"
     ]
    }
   ],
   "source": [
    "#how to eval()fuction\n",
    "a=eval(input('enter a number'))\n",
    "print(a)\n",
    "print(type(a))\n"
   ]
  },
  {
   "cell_type": "code",
   "execution_count": 19,
   "id": "4fe077bf-4510-4b3c-9c3d-13136001bfb7",
   "metadata": {},
   "outputs": [
    {
     "name": "stdout",
     "output_type": "stream",
     "text": [
      "1\n"
     ]
    }
   ],
   "source": [
    "# how to read a list using count\n",
    "enames=['raju','ramu','ragu','komala']\n",
    "print(enames.count('ramu'))\n"
   ]
  },
  {
   "cell_type": "code",
   "execution_count": 21,
   "id": "0fae72e1-3510-42b3-b93a-af5e1c6875b1",
   "metadata": {},
   "outputs": [
    {
     "name": "stdout",
     "output_type": "stream",
     "text": [
      "3\n"
     ]
    }
   ],
   "source": [
    "# how to read a list using index\n",
    "enames=['raju','ramu','ragu','komala']\n",
    "print(enames.index('komala'))"
   ]
  },
  {
   "cell_type": "code",
   "execution_count": 1,
   "id": "e6d95c95-cc81-479c-be0c-c5c14e51f9dd",
   "metadata": {},
   "outputs": [
    {
     "name": "stdout",
     "output_type": "stream",
     "text": [
      "[83, 4, 33, 55, 22, 66, 7]\n"
     ]
    }
   ],
   "source": [
    "# update opration\n",
    "# append method insert value in end of the list\n",
    "# how toS append the list\n",
    "l2=[83,4,33,55,22,66]\n",
    "l2.append(7)\n",
    "print(l2)"
   ]
  },
  {
   "cell_type": "code",
   "execution_count": 4,
   "id": "8caff00d-003a-4cac-9402-1276e415f5f9",
   "metadata": {},
   "outputs": [
    {
     "name": "stdout",
     "output_type": "stream",
     "text": [
      "[83, 101, 4, 33, 55, 22, 66]\n",
      "[83, 101, 33, 55, 22, 66]\n"
     ]
    }
   ],
   "source": [
    "#insert method \n",
    "l2=[83,4,33,55,22,66]\n",
    "l2.insert(1,101)\n",
    "print(l2)\n",
    "\n",
    "# in this we insert index range only\n",
    "l1=[83,4,33,55,22,66]\n",
    "l1[1]=101\n",
    "print(l1)"
   ]
  },
  {
   "cell_type": "code",
   "execution_count": 9,
   "id": "cc64a077-6b95-4567-a772-e8761c28c3eb",
   "metadata": {},
   "outputs": [
    {
     "name": "stdout",
     "output_type": "stream",
     "text": [
      "[99, 0, 33, 44, 55, 83, 4, 33, 55, 22, 66]\n"
     ]
    }
   ],
   "source": [
    "#extand to on sequnce to anthore list \n",
    "l1=[99,00,33,44,55]\n",
    "l2=[83,4,33,55,22,66]\n",
    "l1.extend(l2)\n",
    "print(l1)"
   ]
  },
  {
   "cell_type": "code",
   "execution_count": 12,
   "id": "cd9ef36d-8ff6-4015-a507-d352f0613f54",
   "metadata": {},
   "outputs": [
    {
     "name": "stdout",
     "output_type": "stream",
     "text": [
      "[83, 4, 33, 55, 22]\n"
     ]
    }
   ],
   "source": [
    "#delete oparations\n",
    "#remove :remove the spesified element from list \n",
    "l2=[83,4,33,55,22,66]\n",
    "l2.remove(66)\n",
    "print(l2)"
   ]
  },
  {
   "cell_type": "code",
   "execution_count": 13,
   "id": "8f42e2b6-cf51-4e39-a082-1f5303497bc9",
   "metadata": {},
   "outputs": [
    {
     "name": "stdout",
     "output_type": "stream",
     "text": [
      "[]\n"
     ]
    }
   ],
   "source": [
    "#clear remove all the elemnets the list  \n",
    "l2=[83,4,33,55,22,66]\n",
    "l2.clear()\n",
    "print(l2)"
   ]
  },
  {
   "cell_type": "code",
   "execution_count": 17,
   "id": "c37833bd-5e71-4c01-a971-e2eb831b90c3",
   "metadata": {},
   "outputs": [
    {
     "ename": "NameError",
     "evalue": "name 'l2' is not defined",
     "output_type": "error",
     "traceback": [
      "\u001b[1;31m---------------------------------------------------------------------------\u001b[0m",
      "\u001b[1;31mNameError\u001b[0m                                 Traceback (most recent call last)",
      "Cell \u001b[1;32mIn[17], line 3\u001b[0m\n\u001b[0;32m      1\u001b[0m l2\u001b[38;5;241m=\u001b[39m[\u001b[38;5;241m83\u001b[39m,\u001b[38;5;241m4\u001b[39m,\u001b[38;5;241m33\u001b[39m,\u001b[38;5;241m55\u001b[39m,\u001b[38;5;241m22\u001b[39m,\u001b[38;5;241m66\u001b[39m]\n\u001b[0;32m      2\u001b[0m \u001b[38;5;28;01mdel\u001b[39;00m l2\n\u001b[1;32m----> 3\u001b[0m \u001b[38;5;28mprint\u001b[39m(\u001b[43ml2\u001b[49m)\n",
      "\u001b[1;31mNameError\u001b[0m: name 'l2' is not defined"
     ]
    }
   ],
   "source": [
    "l2=[83,4,33,55,22,66]\n",
    "del l2\n",
    "print(l2)"
   ]
  },
  {
   "cell_type": "code",
   "execution_count": null,
   "id": "e39a9e98-7fe0-4ad1-ae78-87ae9689ac36",
   "metadata": {},
   "outputs": [],
   "source": [
    "#list read opration methods \n",
    "# list.index()\n",
    "#list.reverse()\n",
    "#list .sort()\n",
    "# list.count()"
   ]
  },
  {
   "cell_type": "code",
   "execution_count": 18,
   "id": "32d29ebc-a97d-41a8-8d47-31802b7034fc",
   "metadata": {},
   "outputs": [
    {
     "name": "stdout",
     "output_type": "stream",
     "text": [
      "['ragu', 'raju', 'ramu']\n"
     ]
    }
   ],
   "source": [
    "#read a list useing sort() assending oder\n",
    "# sort in perfroming last to frist \n",
    "enames=['raju','ramu','ragu']\n",
    "enames.sort()\n",
    "print(enames)"
   ]
  },
  {
   "cell_type": "code",
   "execution_count": 19,
   "id": "d6022c84-3438-456b-b0f8-c6c634a3b1f9",
   "metadata": {},
   "outputs": [
    {
     "name": "stdout",
     "output_type": "stream",
     "text": [
      "['ramu', 'raju', 'ragu']\n"
     ]
    }
   ],
   "source": [
    "# to desending oder\n",
    "enames=['raju','ramu','ragu']\n",
    "enames.sort(reverse=True)\n",
    "print(enames)"
   ]
  },
  {
   "cell_type": "code",
   "execution_count": 20,
   "id": "644aa9a5-d598-44f0-84bd-1f9a9513d0b7",
   "metadata": {},
   "outputs": [
    {
     "name": "stdout",
     "output_type": "stream",
     "text": [
      "1\n"
     ]
    }
   ],
   "source": [
    "#indxing method\n",
    "enames=['raju','ramu','ragu']\n",
    "x=enames.index('ramu')\n",
    "print(x)"
   ]
  },
  {
   "cell_type": "code",
   "execution_count": 27,
   "id": "330bf69c-e3a3-4a8f-bedf-6e4aa55ee453",
   "metadata": {},
   "outputs": [
    {
     "name": "stdout",
     "output_type": "stream",
     "text": [
      "3\n"
     ]
    }
   ],
   "source": [
    "ids=[101,21,32,343,12,33,343,343]\n",
    "print(ids.count(343))"
   ]
  },
  {
   "cell_type": "code",
   "execution_count": 31,
   "id": "9b0695d3-2c07-4794-a290-75076e6e7921",
   "metadata": {},
   "outputs": [
    {
     "name": "stdout",
     "output_type": "stream",
     "text": [
      "1925092098816\n",
      "1925092098816\n"
     ]
    }
   ],
   "source": [
    "#acresing the list object\n",
    "ids=[101,21,32,343,12,33,343,343]\n",
    "ids=l1\n",
    "print(id(ids))\n",
    "print(id(l1))"
   ]
  },
  {
   "cell_type": "code",
   "execution_count": 32,
   "id": "277d0f04-85dc-4113-880b-3f2728a07d7e",
   "metadata": {},
   "outputs": [
    {
     "name": "stdout",
     "output_type": "stream",
     "text": [
      "1925092721792\n",
      "1925092098816\n"
     ]
    }
   ],
   "source": [
    "# cloning the list ob\n",
    "ids=[101,21,32,343,12,33,343,343]\n",
    "ids=l1.copy()\n",
    "print(id(ids))\n",
    "print(id(l1))"
   ]
  },
  {
   "cell_type": "code",
   "execution_count": null,
   "id": "dd950feb-b1a5-4fbd-915f-f2a0a2884efb",
   "metadata": {},
   "outputs": [],
   "source": []
  },
  {
   "cell_type": "code",
   "execution_count": null,
   "id": "7d227072-dba3-4bc8-a243-a503006540d0",
   "metadata": {},
   "outputs": [],
   "source": []
  }
 ],
 "metadata": {
  "kernelspec": {
   "display_name": "Python 3 (ipykernel)",
   "language": "python",
   "name": "python3"
  },
  "language_info": {
   "codemirror_mode": {
    "name": "ipython",
    "version": 3
   },
   "file_extension": ".py",
   "mimetype": "text/x-python",
   "name": "python",
   "nbconvert_exporter": "python",
   "pygments_lexer": "ipython3",
   "version": "3.12.5"
  }
 },
 "nbformat": 4,
 "nbformat_minor": 5
}
