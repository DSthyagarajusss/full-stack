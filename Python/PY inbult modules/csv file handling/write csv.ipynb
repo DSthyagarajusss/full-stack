{
 "cells": [
  {
   "cell_type": "code",
   "execution_count": 1,
   "id": "7873af43-540b-46d2-b5ef-a88d399b70e5",
   "metadata": {},
   "outputs": [
    {
     "name": "stdout",
     "output_type": "stream",
     "text": [
      "<class 'requests.models.Response'>\n",
      "<class 'dict'>\n"
     ]
    }
   ],
   "source": [
    "import requests\n",
    "\n",
    "data=requests.get('https://dummyjson.com/users')\n",
    "\n",
    "user_data=data.json()\n",
    "print(type(data))\n",
    "print(type(data.json()))"
   ]
  },
  {
   "cell_type": "code",
   "execution_count": null,
   "id": "4e36759a-c2fc-4e4a-8b8b-e4085e270413",
   "metadata": {},
   "outputs": [],
   "source": [
    "# write "
   ]
  }
 ],
 "metadata": {
  "kernelspec": {
   "display_name": "Python 3 (ipykernel)",
   "language": "python",
   "name": "python3"
  },
  "language_info": {
   "codemirror_mode": {
    "name": "ipython",
    "version": 3
   },
   "file_extension": ".py",
   "mimetype": "text/x-python",
   "name": "python",
   "nbconvert_exporter": "python",
   "pygments_lexer": "ipython3",
   "version": "3.12.5"
  }
 },
 "nbformat": 4,
 "nbformat_minor": 5
}
