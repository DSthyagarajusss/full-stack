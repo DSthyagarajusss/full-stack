{
 "cells": [
  {
   "cell_type": "code",
   "execution_count": 1,
   "id": "0fa79a39-feeb-43fa-a246-20c2ada263b1",
   "metadata": {},
   "outputs": [],
   "source": [
    "#set:::\n",
    "# -group of elements as on entity   - duplicates are not alowed but hetrogenoces are alowed\n",
    "# -indexing is not working and insertion is not \n",
    "# set methods 1.sort  2.add() 3.update() 4.pop() 5.remobe(_)  6.discard() 7.clear()\n"
   ]
  },
  {
   "cell_type": "code",
   "execution_count": 2,
   "id": "505ff36c-f9c0-4bb4-87ef-1b066c86221a",
   "metadata": {},
   "outputs": [
    {
     "name": "stdout",
     "output_type": "stream",
     "text": [
      "{}\n"
     ]
    }
   ],
   "source": [
    "# how to create \n",
    "s1={}\n",
    "print(s1)"
   ]
  },
  {
   "cell_type": "code",
   "execution_count": 3,
   "id": "8f958ede-4a54-4e61-9d8d-a87f9df018e7",
   "metadata": {},
   "outputs": [
    {
     "name": "stdout",
     "output_type": "stream",
     "text": [
      "{20, 101, 70, 10101, 40, 10}\n"
     ]
    }
   ],
   "source": [
    "# nooder garenty not avlabile\n",
    "s1={10,10101,10101,10,101,101,40,20,70}\n",
    "print(s1)"
   ]
  },
  {
   "cell_type": "code",
   "execution_count": 5,
   "id": "f62993d7-55c5-4d8e-96a2-834185bebba3",
   "metadata": {},
   "outputs": [
    {
     "name": "stdout",
     "output_type": "stream",
     "text": [
      "121\n",
      "10\n",
      "101\n",
      "102\n"
     ]
    }
   ],
   "source": [
    "# using for lopp\n",
    "eid={10,101,121,102}\n",
    "for eids in eid:\n",
    "    print(eids)"
   ]
  },
  {
   "cell_type": "code",
   "execution_count": 7,
   "id": "f5af753b-086e-4a2d-98e2-228aba9ff54e",
   "metadata": {},
   "outputs": [
    {
     "name": "stdout",
     "output_type": "stream",
     "text": [
      "{99, 980, 101, 102, 121, 10, 77}\n"
     ]
    }
   ],
   "source": [
    "# update set \n",
    "s1={10,101,121,102}\n",
    "s2={99,980,77}\n",
    "s1.update(s2)\n",
    "print(s1)"
   ]
  },
  {
   "cell_type": "code",
   "execution_count": 9,
   "id": "d7349ef9-bf1c-4e1d-ab1b-48e36f7c1b6e",
   "metadata": {},
   "outputs": [
    {
     "name": "stdout",
     "output_type": "stream",
     "text": [
      "{101, 102, 1000, 10, 121}\n"
     ]
    }
   ],
   "source": [
    "# adding a value in set\n",
    "s1={10,101,121,102}\n",
    "s1.add(1000)\n",
    "print(s1)"
   ]
  },
  {
   "cell_type": "code",
   "execution_count": 10,
   "id": "8c107cbe-43f6-4d19-b9e6-f0a8de11f7b5",
   "metadata": {},
   "outputs": [
    {
     "name": "stdout",
     "output_type": "stream",
     "text": [
      "{'r', 'u', 101, 102, 10, 'm', 121, 'a'}\n"
     ]
    }
   ],
   "source": [
    "#update\n",
    "s1={10,101,121,102}\n",
    "s1.update('ramu')\n",
    "print(s1)"
   ]
  },
  {
   "cell_type": "code",
   "execution_count": 1,
   "id": "70e784dc-466e-4209-959f-caa7248b099b",
   "metadata": {},
   "outputs": [
    {
     "name": "stdout",
     "output_type": "stream",
     "text": [
      "{10, 101, 102}\n"
     ]
    }
   ],
   "source": [
    "#pop() its remove randam element from set \n",
    "s1={10,101,121,102}\n",
    "s1.pop()\n",
    "print(s1)"
   ]
  },
  {
   "cell_type": "code",
   "execution_count": 7,
   "id": "ea6e0553-3af0-4311-a080-2ce8b75e4ff4",
   "metadata": {},
   "outputs": [
    {
     "name": "stdout",
     "output_type": "stream",
     "text": [
      "{121, 101, 102}\n"
     ]
    }
   ],
   "source": [
    "# remove() :  remove spesified element form set  \n",
    "\n",
    "s1={10,101,121,102}\n",
    "s1.remove(10)\n",
    "print(s1) "
   ]
  },
  {
   "cell_type": "code",
   "execution_count": 8,
   "id": "75d829ab-ba96-4655-8348-1c35e82c7dac",
   "metadata": {},
   "outputs": [
    {
     "name": "stdout",
     "output_type": "stream",
     "text": [
      "{121, 101, 102}\n"
     ]
    }
   ],
   "source": [
    "# discard():: spesified element form set  \n",
    "s1={10,101,121,102}\n",
    "s1.discard(10)\n",
    "print(s1)"
   ]
  },
  {
   "cell_type": "code",
   "execution_count": 9,
   "id": "827cedfb-780b-4422-9b35-89ce029d83fb",
   "metadata": {},
   "outputs": [
    {
     "name": "stdout",
     "output_type": "stream",
     "text": [
      "set()\n"
     ]
    }
   ],
   "source": [
    "#clear():: delet all set elments in set object\n",
    "s1={10,101,121,102}\n",
    "s1.clear()\n",
    "print(s1)"
   ]
  },
  {
   "cell_type": "code",
   "execution_count": null,
   "id": "e94ec9fa-802c-4e12-8b6c-01812a80160f",
   "metadata": {},
   "outputs": [],
   "source": []
  },
  {
   "cell_type": "code",
   "execution_count": null,
   "id": "ee253141-e293-464d-9cc3-2b1f9109d1fc",
   "metadata": {},
   "outputs": [],
   "source": []
  }
 ],
 "metadata": {
  "kernelspec": {
   "display_name": "Python 3 (ipykernel)",
   "language": "python",
   "name": "python3"
  },
  "language_info": {
   "codemirror_mode": {
    "name": "ipython",
    "version": 3
   },
   "file_extension": ".py",
   "mimetype": "text/x-python",
   "name": "python",
   "nbconvert_exporter": "python",
   "pygments_lexer": "ipython3",
   "version": "3.12.5"
  }
 },
 "nbformat": 4,
 "nbformat_minor": 5
}
