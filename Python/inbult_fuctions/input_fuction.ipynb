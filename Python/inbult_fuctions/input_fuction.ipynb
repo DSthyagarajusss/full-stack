{
 "cells": [
  {
   "cell_type": "code",
   "execution_count": 11,
   "id": "7fa108b9-a314-4440-8d9f-c3aa6d2e8f03",
   "metadata": {},
   "outputs": [
    {
     "name": "stdin",
     "output_type": "stream",
     "text": [
      "enter frist number 22\n",
      "enter second number 22\n"
     ]
    },
    {
     "name": "stdout",
     "output_type": "stream",
     "text": [
      "2222\n"
     ]
    }
   ],
   "source": [
    "#defult tpue reading from user in string type only\n",
    "#by print fuction defult ends with new line \n",
    "\n",
    "a=input(\"enter frist number\")\n",
    "b=input(\"enter second number\")\n",
    "print(a+b)"
   ]
  },
  {
   "cell_type": "code",
   "execution_count": 4,
   "id": "290fef32-d228-4509-9163-27b90ab70812",
   "metadata": {},
   "outputs": [
    {
     "name": "stdin",
     "output_type": "stream",
     "text": [
      "enter frist number ee\n",
      "enter second number ee\n"
     ]
    },
    {
     "name": "stdout",
     "output_type": "stream",
     "text": [
      "eeee\n"
     ]
    }
   ],
   "source": [
    "# to print  useing int type\n",
    "a=input(\"enter frist number\")\n",
    "b=input(\"enter second number\")\n",
    "print(a+b)"
   ]
  },
  {
   "cell_type": "code",
   "execution_count": 5,
   "id": "ba3039b2-79ab-4840-81e3-334be0b6610f",
   "metadata": {},
   "outputs": [
    {
     "name": "stdin",
     "output_type": "stream",
     "text": [
      "frist number 22\n",
      "second number 22\n"
     ]
    },
    {
     "name": "stdout",
     "output_type": "stream",
     "text": [
      "44\n"
     ]
    }
   ],
   "source": [
    "a=int(input(\"frist number\"))\n",
    "b=int(input(\"second number\"))\n",
    "print(a+b)"
   ]
  },
  {
   "cell_type": "code",
   "execution_count": 8,
   "id": "80cdf556-3301-42ff-a71d-8d290eaa8c67",
   "metadata": {},
   "outputs": [
    {
     "name": "stdin",
     "output_type": "stream",
     "text": [
      "frist number 1\n",
      "second number 2\n"
     ]
    },
    {
     "name": "stdout",
     "output_type": "stream",
     "text": [
      "<class 'float'>\n",
      "<class 'float'>\n",
      "3.0\n"
     ]
    }
   ],
   "source": [
    "\n",
    "a=float(input(\"frist number\"))\n",
    "b=float(input(\"second number\"))\n",
    "print(type(a))\n",
    "print(type(b))\n",
    "print(a+b)\n"
   ]
  },
  {
   "cell_type": "code",
   "execution_count": 9,
   "id": "4635241e-1884-464e-85b3-d699310bf4b8",
   "metadata": {},
   "outputs": [
    {
     "name": "stdin",
     "output_type": "stream",
     "text": [
      "frist number 2\n",
      "second number 2\n"
     ]
    },
    {
     "name": "stdout",
     "output_type": "stream",
     "text": [
      "0\n"
     ]
    }
   ],
   "source": [
    "a=int(input(\"frist number\"))\n",
    "b=int(input(\"second number\"))\n",
    "print(a-b)"
   ]
  },
  {
   "cell_type": "code",
   "execution_count": 10,
   "id": "73b171a3-aa8e-43a4-a9d5-a9c05c9acbd6",
   "metadata": {},
   "outputs": [
    {
     "name": "stdin",
     "output_type": "stream",
     "text": [
      "enter a number 55\n",
      "second numer 55\n"
     ]
    },
    {
     "name": "stdout",
     "output_type": "stream",
     "text": [
      "110\n"
     ]
    }
   ],
   "source": [
    "#singal line code for input fuction\n",
    "print(int(input('enter a number'))+int(input('second numer')))"
   ]
  },
  {
   "cell_type": "code",
   "execution_count": null,
   "id": "e2261187-a18e-4b69-bcc4-f02eb294036e",
   "metadata": {},
   "outputs": [],
   "source": []
  }
 ],
 "metadata": {
  "kernelspec": {
   "display_name": "Python 3 (ipykernel)",
   "language": "python",
   "name": "python3"
  },
  "language_info": {
   "codemirror_mode": {
    "name": "ipython",
    "version": 3
   },
   "file_extension": ".py",
   "mimetype": "text/x-python",
   "name": "python",
   "nbconvert_exporter": "python",
   "pygments_lexer": "ipython3",
   "version": "3.12.5"
  }
 },
 "nbformat": 4,
 "nbformat_minor": 5
}
