{
 "cells": [
  {
   "cell_type": "code",
   "execution_count": 1,
   "id": "22aa1345-9c5e-43fa-99fa-1df9ececa1ab",
   "metadata": {},
   "outputs": [],
   "source": [
    "#decorator: is function,it take one fuction is an argument ,it modify the fuctionality,and return modified functoin\n",
    "# types of decorators 1.@classmethod ,2.static method"
   ]
  },
  {
   "cell_type": "code",
   "execution_count": 3,
   "id": "ca6bca50-33f5-487b-a9c3-d92d9622c410",
   "metadata": {},
   "outputs": [
    {
     "name": "stdout",
     "output_type": "stream",
     "text": [
      "outer fuction\n",
      "inner fuction\n"
     ]
    }
   ],
   "source": [
    "#how to excute inner fuction out side of the function\n",
    "def outer():\n",
    "    print('outer fuction')\n",
    "    def inner():\n",
    "        print('inner fuction')\n",
    "    return inner\n",
    "i=outer()\n",
    "i()"
   ]
  },
  {
   "cell_type": "code",
   "execution_count": 7,
   "id": "e7163b1a-0b68-4a23-8093-ac4f82d87ce6",
   "metadata": {},
   "outputs": [
    {
     "name": "stdout",
     "output_type": "stream",
     "text": [
      "home page\n",
      "login is requried\n",
      "prouct page\n",
      "login is requried\n"
     ]
    }
   ],
   "source": [
    "#with deco\n",
    "def login_requried(fucn):\n",
    "    def inner(name,is_login):\n",
    "        if is_login==False:\n",
    "            print('login is requried')\n",
    "        else:\n",
    "            fucn(name,is_login)\n",
    "    return inner\n",
    "        \n",
    "\n",
    "def home_page(name,is_login):\n",
    "    print('home page')\n",
    "@login_requried                           # deco name w to create a deco we have to use @ symbol\n",
    "def about_page(name,is_login): \n",
    "    print('about page')\n",
    "@login_requried                           # deco name w to create a deco we have to use @ symbol\n",
    "def product_page(name,is_login):\n",
    "    print('prouct page')\n",
    "@login_requried                           # deco name w to create a deco we have to use @ symbol\n",
    "def oder_page(name,is_login):\n",
    "    print('oder page')\n",
    "home_page(\"rahul\",False)\n",
    "about_page(\"rahul\",False)\n",
    "product_page('raju',True)\n",
    "oder_page(\"rahul\",False)\n"
   ]
  },
  {
   "cell_type": "code",
   "execution_count": null,
   "id": "2f44ed62-81d3-43e1-bc73-73c8b4abae3a",
   "metadata": {},
   "outputs": [],
   "source": [
    "# without decorator\n",
    "def home_page(name,is_login):\n",
    "    print('home page')\n",
    "\n",
    "def about_page(name,is_login):\n",
    "    print('about page')\n",
    "\n",
    "def product_page(name,is_login):\n",
    "    print('prouct page')\n",
    "\n",
    "def oder_page(name,is_login):\n",
    "    print('oder page')\n",
    "home_page(\"rahul\",False)\n",
    "about_page(\"rahul\",False)\n",
    "product_page('raju',True)\n",
    "oder_page(\"rahul\",False)\n"
   ]
  },
  {
   "cell_type": "code",
   "execution_count": 10,
   "id": "743d5df6-6428-4643-ad32-07ff61d69676",
   "metadata": {},
   "outputs": [
    {
     "name": "stdout",
     "output_type": "stream",
     "text": [
      "5.0\n"
     ]
    },
    {
     "ename": "ZeroDivisionError",
     "evalue": "division by zero",
     "output_type": "error",
     "traceback": [
      "\u001b[1;31m---------------------------------------------------------------------------\u001b[0m",
      "\u001b[1;31mZeroDivisionError\u001b[0m                         Traceback (most recent call last)",
      "Cell \u001b[1;32mIn[10], line 4\u001b[0m\n\u001b[0;32m      2\u001b[0m     \u001b[38;5;28mprint\u001b[39m(a\u001b[38;5;241m/\u001b[39mb)\n\u001b[0;32m      3\u001b[0m calc(\u001b[38;5;241m10\u001b[39m,\u001b[38;5;241m2\u001b[39m)\n\u001b[1;32m----> 4\u001b[0m \u001b[43mcalc\u001b[49m\u001b[43m(\u001b[49m\u001b[38;5;241;43m10\u001b[39;49m\u001b[43m,\u001b[49m\u001b[38;5;241;43m0\u001b[39;49m\u001b[43m)\u001b[49m\n",
      "Cell \u001b[1;32mIn[10], line 2\u001b[0m, in \u001b[0;36mcalc\u001b[1;34m(a, b)\u001b[0m\n\u001b[0;32m      1\u001b[0m \u001b[38;5;28;01mdef\u001b[39;00m \u001b[38;5;21mcalc\u001b[39m(a,b):\n\u001b[1;32m----> 2\u001b[0m     \u001b[38;5;28mprint\u001b[39m(\u001b[43ma\u001b[49m\u001b[38;5;241;43m/\u001b[39;49m\u001b[43mb\u001b[49m)\n",
      "\u001b[1;31mZeroDivisionError\u001b[0m: division by zero"
     ]
    }
   ],
   "source": [
    "def calc(a,b):\n",
    "    print(a/b)\n",
    "calc(10,2)\n",
    "calc(10,0)\n"
   ]
  },
  {
   "cell_type": "code",
   "execution_count": 13,
   "id": "0ba74f9e-a1ad-4251-a66f-77591df74009",
   "metadata": {},
   "outputs": [
    {
     "name": "stdout",
     "output_type": "stream",
     "text": [
      "5.0\n",
      "ca'nt Division by zero\n"
     ]
    }
   ],
   "source": [
    "#with deco\n",
    "def testcase(raju):\n",
    "    def inner(a,b):\n",
    "        if b==0:\n",
    "            print(\"ca'nt Division by zero\")\n",
    "        else:\n",
    "            return raju(a,b)\n",
    "    return inner\n",
    "\n",
    "@testcase\n",
    "def calc(a,b):\n",
    "    print(a/b)\n",
    "calc(10,2)\n",
    "calc(10,0)"
   ]
  },
  {
   "cell_type": "code",
   "execution_count": 1,
   "id": "09da92b5-1e82-4ced-a7c7-b731aa178237",
   "metadata": {},
   "outputs": [
    {
     "name": "stdout",
     "output_type": "stream",
     "text": [
      "outer fuction\n",
      "inner fuction\n"
     ]
    }
   ],
   "source": [
    "def outer():\n",
    "    print('outer fuction')\n",
    "    def inner():\n",
    "        print('inner fuction')\n",
    "    inner()\n",
    "outer()"
   ]
  },
  {
   "cell_type": "code",
   "execution_count": 6,
   "id": "32f3d7e2-048b-4f5d-94b8-fbedf6432289",
   "metadata": {},
   "outputs": [
    {
     "name": "stdout",
     "output_type": "stream",
     "text": [
      "outer fuction\n",
      "inner fuction\n"
     ]
    }
   ],
   "source": [
    "def outer():\n",
    "    print('outer fuction')\n",
    "    def inner():\n",
    "        print('inner fuction')\n",
    "    return inner\n",
    "inner=outer()\n",
    "inner()"
   ]
  },
  {
   "cell_type": "code",
   "execution_count": 19,
   "id": "5e8e60c1-57b1-4cfe-8c01-5262a5397247",
   "metadata": {},
   "outputs": [
    {
     "data": {
      "text/plain": [
       "'hiRAJU'"
      ]
     },
     "execution_count": 19,
     "metadata": {},
     "output_type": "execute_result"
    }
   ],
   "source": [
    "def change_case(fun):\n",
    "    def inner(name):\n",
    "        return'hi'+name.upper()\n",
    "    return inner\n",
    "\n",
    "\n",
    "@change_case\n",
    "def display(name):\n",
    "    print('name')\n",
    "    \n",
    "display('raju')\n"
   ]
  },
  {
   "cell_type": "code",
   "execution_count": 24,
   "id": "b7827886-8ae9-49e7-898d-39bdcc4f214e",
   "metadata": {},
   "outputs": [
    {
     "name": "stdout",
     "output_type": "stream",
     "text": [
      "5.0\n",
      "cant division by zeero\n",
      "gm\n"
     ]
    }
   ],
   "source": [
    "def test_case(func):\n",
    "    def inner(a,b):\n",
    "        if b==0:\n",
    "            print('cant division by zeero')\n",
    "        else:\n",
    "            return func(a,b)\n",
    "    return inner\n",
    "\n",
    "@test_case\n",
    "def clac(a,b):\n",
    "    print(a/b)\n",
    "\n",
    "\n",
    "clac(10,2)\n",
    "clac(10,0)\n",
    "print('gm')"
   ]
  },
  {
   "cell_type": "code",
   "execution_count": null,
   "id": "9b2d553b-5371-453a-b178-1cda4bc6380a",
   "metadata": {},
   "outputs": [],
   "source": []
  }
 ],
 "metadata": {
  "kernelspec": {
   "display_name": "Python 3 (ipykernel)",
   "language": "python",
   "name": "python3"
  },
  "language_info": {
   "codemirror_mode": {
    "name": "ipython",
    "version": 3
   },
   "file_extension": ".py",
   "mimetype": "text/x-python",
   "name": "python",
   "nbconvert_exporter": "python",
   "pygments_lexer": "ipython3",
   "version": "3.12.5"
  }
 },
 "nbformat": 4,
 "nbformat_minor": 5
}
