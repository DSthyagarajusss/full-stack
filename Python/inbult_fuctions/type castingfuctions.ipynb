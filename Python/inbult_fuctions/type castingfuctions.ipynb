{
 "cells": [
  {
   "cell_type": "code",
   "execution_count": 2,
   "id": "9da3974a-fd19-4534-8ff2-953560519a1c",
   "metadata": {},
   "outputs": [
    {
     "name": "stdout",
     "output_type": "stream",
     "text": [
      "<class 'int'>\n",
      "64747\n",
      "<class 'int'>\n"
     ]
    }
   ],
   "source": [
    "esal=64747\n",
    "print(type(esal))\n",
    "esal=int(esal)\n",
    "print(esal)\n",
    "print(type(esal))\n"
   ]
  },
  {
   "cell_type": "code",
   "execution_count": 3,
   "id": "60859936-747b-4804-a95b-2f426c2db520",
   "metadata": {},
   "outputs": [
    {
     "name": "stdout",
     "output_type": "stream",
     "text": [
      "<class 'str'>\n"
     ]
    },
    {
     "ename": "ValueError",
     "evalue": "invalid literal for int() with base 10: 'ten'",
     "output_type": "error",
     "traceback": [
      "\u001b[1;31m---------------------------------------------------------------------------\u001b[0m",
      "\u001b[1;31mValueError\u001b[0m                                Traceback (most recent call last)",
      "Cell \u001b[1;32mIn[3], line 3\u001b[0m\n\u001b[0;32m      1\u001b[0m esal\u001b[38;5;241m=\u001b[39m\u001b[38;5;124m'\u001b[39m\u001b[38;5;124mten\u001b[39m\u001b[38;5;124m'\u001b[39m\n\u001b[0;32m      2\u001b[0m \u001b[38;5;28mprint\u001b[39m(\u001b[38;5;28mtype\u001b[39m(esal))\n\u001b[1;32m----> 3\u001b[0m esal\u001b[38;5;241m=\u001b[39m\u001b[38;5;28;43mint\u001b[39;49m\u001b[43m(\u001b[49m\u001b[43mesal\u001b[49m\u001b[43m)\u001b[49m\n\u001b[0;32m      4\u001b[0m \u001b[38;5;28mprint\u001b[39m(esal)\n\u001b[0;32m      5\u001b[0m \u001b[38;5;28mprint\u001b[39m(\u001b[38;5;28mtype\u001b[39m(esal))\n",
      "\u001b[1;31mValueError\u001b[0m: invalid literal for int() with base 10: 'ten'"
     ]
    }
   ],
   "source": [
    "esal='ten'\n",
    "print(type(esal))\n",
    "esal=int(esal)\n",
    "print(esal)\n",
    "print(type(esal))"
   ]
  },
  {
   "cell_type": "code",
   "execution_count": 4,
   "id": "e66aeabb-fd14-4092-8b10-48653fc9517c",
   "metadata": {},
   "outputs": [
    {
     "name": "stdout",
     "output_type": "stream",
     "text": [
      "<class 'str'>\n",
      "27272\n",
      "<class 'int'>\n"
     ]
    }
   ],
   "source": [
    "esal='27272'\n",
    "print(type(esal))\n",
    "esal=int(esal)\n",
    "print(esal)\n",
    "print(type(esal))"
   ]
  },
  {
   "cell_type": "code",
   "execution_count": null,
   "id": "91c27b9f-bb38-4d02-9538-0a3e2a7ae3c4",
   "metadata": {},
   "outputs": [],
   "source": []
  },
  {
   "cell_type": "code",
   "execution_count": null,
   "id": "1a541bee-04fc-4d2a-8043-624f22630b26",
   "metadata": {},
   "outputs": [],
   "source": []
  }
 ],
 "metadata": {
  "kernelspec": {
   "display_name": "Python 3 (ipykernel)",
   "language": "python",
   "name": "python3"
  },
  "language_info": {
   "codemirror_mode": {
    "name": "ipython",
    "version": 3
   },
   "file_extension": ".py",
   "mimetype": "text/x-python",
   "name": "python",
   "nbconvert_exporter": "python",
   "pygments_lexer": "ipython3",
   "version": "3.12.5"
  }
 },
 "nbformat": 4,
 "nbformat_minor": 5
}
