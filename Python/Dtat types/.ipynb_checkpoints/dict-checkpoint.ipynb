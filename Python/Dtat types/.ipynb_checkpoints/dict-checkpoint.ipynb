{
 "cells": [
  {
   "cell_type": "code",
   "execution_count": 1,
   "id": "68471382-6b34-46ea-b7a1-6ecfd0101590",
   "metadata": {},
   "outputs": [],
   "source": [
    "#     -group of key-value as on entity   -duplicates key or not alloed b -group of  proertys as one entityy\n",
    "#          -dict object are create we can perfrom update and delete opration\n",
    "#         -insertion oder is mantained/oder garenty"
   ]
  },
  {
   "cell_type": "code",
   "execution_count": 5,
   "id": "655654d3-e1f8-4630-ba36-988325325bdb",
   "metadata": {},
   "outputs": [
    {
     "name": "stdout",
     "output_type": "stream",
     "text": [
      "{'eid': 101, 'enames': 'raju', 'sal': 345353, 'avail': True}\n",
      "<class 'dict'>\n"
     ]
    }
   ],
   "source": [
    "#how to create a dict objcert \n",
    "emp={\n",
    "    'eid':101,\n",
    "    'enames':'raju',\n",
    "    'sal':345353,\n",
    "    'avail':True\n",
    "}\n",
    "print(emp)\n",
    "print(type(emp))"
   ]
  },
  {
   "cell_type": "code",
   "execution_count": 7,
   "id": "bb23cc1d-6fd0-49cf-879b-22b2ae8f0ed0",
   "metadata": {},
   "outputs": [
    {
     "name": "stdout",
     "output_type": "stream",
     "text": [
      "raju\n"
     ]
    }
   ],
   "source": [
    "#read method\n",
    "emp={\n",
    "    'eid':101,\n",
    "    'ename':'raju',\n",
    "    'sal':345353,\n",
    "    'avail':True\n",
    "}\n",
    "print(emp['ename'])"
   ]
  },
  {
   "cell_type": "code",
   "execution_count": 9,
   "id": "273f9891-db1b-4bbb-8542-2f770692fdee",
   "metadata": {},
   "outputs": [
    {
     "name": "stdout",
     "output_type": "stream",
     "text": [
      "101\n",
      "raju\n",
      "345353\n",
      "True\n"
     ]
    }
   ],
   "source": [
    "# print all dict values\n",
    "emp={\n",
    "    'eid':101,\n",
    "    'ename':'raju',\n",
    "    'sal':345353,\n",
    "    'avail':True\n",
    "}\n",
    "print(emp['eid'])\n",
    "print(emp['ename'])\n",
    "print(emp['sal'])\n",
    "print(emp['avail'])"
   ]
  },
  {
   "cell_type": "code",
   "execution_count": 2,
   "id": "2409ac98-5889-4f44-b956-4f0b785b2fad",
   "metadata": {},
   "outputs": [
    {
     "name": "stdout",
     "output_type": "stream",
     "text": [
      "101\n",
      "raju\n",
      "345353\n",
      "True\n"
     ]
    }
   ],
   "source": [
    "# print all dict values usening get method()\n",
    "emp={\n",
    "    'eid':101,\n",
    "    'ename':'raju',\n",
    "    'sal':345353,\n",
    "    'avail':True\n",
    "}\n",
    "print(emp.get('eid'))\n",
    "print(emp.get('ename'))\n",
    "print(emp.get('sal'))\n",
    "print(emp.get('avail'))"
   ]
  },
  {
   "cell_type": "code",
   "execution_count": 14,
   "id": "d0f2601b-961b-4649-822f-38d52e7c00d8",
   "metadata": {},
   "outputs": [
    {
     "name": "stdout",
     "output_type": "stream",
     "text": [
      "eid\n",
      "ename\n",
      "sal\n",
      "avail\n"
     ]
    }
   ],
   "source": [
    "# itaret dict keys for loop:\n",
    "emp={\n",
    "    'eid':101,\n",
    "    'ename':'raju',\n",
    "    'sal':345353,\n",
    "    'avail':True\n",
    "}\n",
    "\n",
    "for key in emp.keys():\n",
    "    print(key)"
   ]
  },
  {
   "cell_type": "code",
   "execution_count": 18,
   "id": "9f429dec-7b65-45a8-8351-d68e915349f2",
   "metadata": {},
   "outputs": [
    {
     "name": "stdout",
     "output_type": "stream",
     "text": [
      "101\n",
      "raju\n",
      "345353\n",
      "True\n"
     ]
    }
   ],
   "source": [
    "# itaret dict key-values for loop:\n",
    "emp={\n",
    "    'eid':101,\n",
    "    'ename':'raju',\n",
    "    'sal':345353,\n",
    "    'avail':True\n",
    "}\n",
    "\n",
    "for value in emp.values():\n",
    "    print(value)"
   ]
  },
  {
   "cell_type": "code",
   "execution_count": 5,
   "id": "68112794-6c76-4fcc-bf98-86eb31de4577",
   "metadata": {},
   "outputs": [
    {
     "name": "stdout",
     "output_type": "stream",
     "text": [
      "eid   :     101\n",
      "ename   :     raju\n",
      "sal   :     345353\n",
      "avail   :     True\n"
     ]
    }
   ],
   "source": [
    "# to print items in dict using for loop\n",
    "emp={\n",
    "    'eid':101,\n",
    "    'ename':'raju',\n",
    "    'sal':345353,\n",
    "    'avail':True\n",
    "}\n",
    "\n",
    "for key,value in emp.items():\n",
    "    print(key,'  :    ',value)"
   ]
  },
  {
   "cell_type": "code",
   "execution_count": 12,
   "id": "8a42aacb-ac16-43a8-ab86-3efcf253761c",
   "metadata": {},
   "outputs": [
    {
     "name": "stdout",
     "output_type": "stream",
     "text": [
      "{'eid': 102, 'ename': 'ramu', 'sal': 889383, 'avail': False}\n"
     ]
    }
   ],
   "source": [
    "# how to update dict using update() method\n",
    "emp={\n",
    "    'eid':101,\n",
    "    'ename':'raju',\n",
    "    'sal':345353,\n",
    "    'avail':True\n",
    "}\n",
    "emp.update({\n",
    "    'eid':102,\n",
    "    'ename':'ramu',\n",
    "    'sal':66600,\n",
    "    'avail':False\n",
    "    })\n",
    "emp.update({'sal':889383})\n",
    "\n",
    "print (emp)"
   ]
  },
  {
   "cell_type": "code",
   "execution_count": 21,
   "id": "213feb66-ec45-40e8-9f9d-281623b7a41b",
   "metadata": {},
   "outputs": [
    {
     "name": "stdout",
     "output_type": "stream",
     "text": [
      "103\n",
      "{'eid': 101, 'ename': 'raju', 'sal': 345353, 'avail': True, 'e_id': 103}\n"
     ]
    }
   ],
   "source": [
    "# how to set default dict \n",
    "\n",
    "emp={\n",
    "    'eid':101,\n",
    "    'ename':'raju',\n",
    "    'sal':345353,\n",
    "    'avail':True\n",
    "}\n",
    "\n",
    "hii= emp.setdefault('e_id',103)\n",
    "print(hii)\n",
    "print(emp)"
   ]
  },
  {
   "cell_type": "code",
   "execution_count": 23,
   "id": "a4a7e69a-b293-4b14-be11-5b52da021831",
   "metadata": {},
   "outputs": [
    {
     "name": "stdout",
     "output_type": "stream",
     "text": [
      "{'ename': 'raju', 'sal': 345353, 'avail': True}\n"
     ]
    }
   ],
   "source": [
    "#pop() method spesified method\n",
    "emp={\n",
    "    'eid':101,\n",
    "    'ename':'raju',\n",
    "    'sal':345353,\n",
    "    'avail':True\n",
    "}\n",
    "emp.pop('eid')\n",
    "print(emp)"
   ]
  },
  {
   "cell_type": "code",
   "execution_count": 25,
   "id": "f7b68913-542b-4a3c-923d-f0d15ed12c70",
   "metadata": {},
   "outputs": [
    {
     "name": "stdout",
     "output_type": "stream",
     "text": [
      "{'eid': 101, 'ename': 'raju', 'sal': 345353}\n"
     ]
    }
   ],
   "source": [
    "# popitems() method  its remove last key and valuse\n",
    " \n",
    "emp={\n",
    "    'eid':101,\n",
    "    'ename':'raju',\n",
    "    'sal':345353,\n",
    "    'avail':True\n",
    "}\n",
    "emp.popitem()\n",
    "print(emp)"
   ]
  },
  {
   "cell_type": "code",
   "execution_count": 26,
   "id": "2e1d821f-0a1e-4f7c-8e87-f4d1901621bd",
   "metadata": {},
   "outputs": [
    {
     "name": "stdout",
     "output_type": "stream",
     "text": [
      "{}\n"
     ]
    }
   ],
   "source": [
    "# clear()  remove all data in dict object\n",
    "emp={\n",
    "    'eid':101,\n",
    "    'ename':'raju',\n",
    "    'sal':345353,\n",
    "    'avail':True\n",
    "}\n",
    "emp.clear()\n",
    "print(emp)"
   ]
  },
  {
   "cell_type": "code",
   "execution_count": 36,
   "id": "2a1ce041-19bc-495b-8a7c-c520f4b46ad5",
   "metadata": {},
   "outputs": [
    {
     "name": "stdout",
     "output_type": "stream",
     "text": [
      "Nixie\n",
      "<class 'dict'>\n",
      "Joyce\n",
      "<class 'dict'>\n",
      "Barron\n",
      "<class 'dict'>\n",
      "Claudie\n",
      "<class 'dict'>\n",
      "Damiano\n",
      "<class 'dict'>\n",
      "Maxi\n",
      "<class 'dict'>\n",
      "Augusta\n",
      "<class 'dict'>\n",
      "Trixy\n",
      "<class 'dict'>\n",
      "Karalee\n",
      "<class 'dict'>\n",
      "Jodee\n",
      "<class 'dict'>\n",
      "Johnath\n",
      "<class 'dict'>\n",
      "Delmer\n",
      "<class 'dict'>\n",
      "Penny\n",
      "<class 'dict'>\n",
      "Regina\n",
      "<class 'dict'>\n",
      "Vanni\n",
      "<class 'dict'>\n",
      "Salomone\n",
      "<class 'dict'>\n",
      "Ailene\n",
      "<class 'dict'>\n",
      "Dane\n",
      "<class 'dict'>\n",
      "Marietta\n",
      "<class 'dict'>\n",
      "Becky\n",
      "<class 'dict'>\n",
      "Aldwin\n",
      "<class 'dict'>\n",
      "Claiborn\n",
      "<class 'dict'>\n",
      "Isa\n",
      "<class 'dict'>\n",
      "Pooh\n",
      "<class 'dict'>\n",
      "Arielle\n",
      "<class 'dict'>\n",
      "Gerry\n",
      "<class 'dict'>\n",
      "Richmound\n",
      "<class 'dict'>\n",
      "Vinnie\n",
      "<class 'dict'>\n",
      "Barret\n",
      "<class 'dict'>\n",
      "Matthias\n",
      "<class 'dict'>\n",
      "Carlotta\n",
      "<class 'dict'>\n",
      "Lyell\n",
      "<class 'dict'>\n",
      "Chester\n",
      "<class 'dict'>\n",
      "Sanson\n",
      "<class 'dict'>\n",
      "Rancell\n",
      "<class 'dict'>\n",
      "Gerek\n",
      "<class 'dict'>\n",
      "Waverley\n",
      "<class 'dict'>\n",
      "Valene\n",
      "<class 'dict'>\n",
      "Jeannette\n",
      "<class 'dict'>\n",
      "Larry\n",
      "<class 'dict'>\n",
      "Sherwynd\n",
      "<class 'dict'>\n",
      "June\n",
      "<class 'dict'>\n",
      "Hi\n",
      "<class 'dict'>\n",
      "Virgie\n",
      "<class 'dict'>\n",
      "Rosamond\n",
      "<class 'dict'>\n",
      "Elaina\n",
      "<class 'dict'>\n",
      "Mable\n",
      "<class 'dict'>\n",
      "Wash\n",
      "<class 'dict'>\n",
      "Herman\n",
      "<class 'dict'>\n",
      "Dee dee\n",
      "<class 'dict'>\n"
     ]
    }
   ],
   "source": [
    "#morre data print enems\n",
    "#print only enames using for loop\n",
    "\n",
    "emp=[{'eid':1,'ename':'Nixie','email':'nmacquist0@walmart.com','gender':'Female'},\n",
    "{'eid':2,'ename':'Joyce','email':'jnoell1@earthlink.net','gender':'Female'},\n",
    "{'eid':3,'ename':'Barron','email':'bmccullen2@senate.gov','gender':'Male'},\n",
    "{'eid':4,'ename':'Claudie','email':'cwale3@reverbnation.com','gender':'Female'},\n",
    "{'eid':5,'ename':'Damiano','email':'dbourley4@cdbaby.com','gender':'Non-binary'},\n",
    "{'eid':6,'ename':'Maxi','email':'mmanuely5@miitbeian.gov.cn','gender':'Female'},\n",
    "{'eid':7,'ename':'Augusta','email':'ahanham6@163.com','gender':'Female'},\n",
    "{'eid':8,'ename':'Trixy','email':'tstockney7@examiner.com','gender':'Female'},\n",
    "{'eid':9,'ename':'Karalee','email':'kimpson8@amazon.co.uk','gender':'Female'},\n",
    "{'eid':10,'ename':'Jodee','email':'jpresidey9@sohu.com','gender':'Female'},\n",
    "{'eid':11,'ename':'Johnath','email':'jpaintera@telegraph.co.uk','gender':'Female'},\n",
    "{'eid':12,'ename':'Delmer','email':'dgeppb@bloglovin.com','gender':'Male'},\n",
    "{'eid':13,'ename':'Penny','email':'pcollenc@nba.com','gender':'Male'},\n",
    "{'eid':14,'ename':'Regina','email':'rtunnockd@squidoo.com','gender':'Genderqueer'},\n",
    "{'eid':15,'ename':'Vanni','email':'vhaslocke@cocolog-nifty.com','gender':'Female'},\n",
    "{'eid':16,'ename':'Salomone','email':'slabordef@behance.net','gender':'Male'},\n",
    "{'eid':17,'ename':'Ailene','email':'akobschg@tiny.cc','gender':'Genderfluid'},\n",
    "{'eid':18,'ename':'Dane','email':'drappah@cnn.com','gender':'Male'},\n",
    "{'eid':19,'ename':'Marietta','email':'mkinetoni@alibaba.com','gender':'Female'},\n",
    "{'eid':20,'ename':'Becky','email':'blowethj@google.de','gender':'Non-binary'},\n",
    "{'eid':21,'ename':'Aldwin','email':'acanonk@google.co.jp','gender':'Male'},\n",
    "{'eid':22,'ename':'Claiborn','email':'crhymerl@ow.ly','gender':'Male'},\n",
    "{'eid':23,'ename':'Isa','email':'iberndtssenm@yahoo.com','gender':'Male'},\n",
    "{'eid':24,'ename':'Pooh','email':'pwittmann@google.co.jp','gender':'Male'},\n",
    "{'eid':25,'ename':'Arielle','email':'apinchino@163.com','gender':'Genderfluid'},\n",
    "{'eid':26,'ename':'Gerry','email':'gtiltp@diigo.com','gender':'Male'},\n",
    "{'eid':27,'ename':'Richmound','email':'rkilgroveq@howstuffworks.com','gender':'Male'},\n",
    "{'eid':28,'ename':'Vinnie','email':'vgrigoreyr@furl.net','gender':'Male'},\n",
    "{'eid':29,'ename':'Barret','email':'blimpertzs@dmoz.org','gender':'Male'},\n",
    "{'eid':30,'ename':'Matthias','email':'mmacshirriet@cafepress.com','gender':'Male'},\n",
    "{'eid':31,'ename':'Carlotta','email':'cfalkousu@cdc.gov','gender':'Female'},\n",
    "{'eidVirg':32,'ename':'Lyell','email':'lcasemorev@goodreads.com','gender':'Male'},\n",
    "{'eid':33,'ename':'Chester','email':'ctiesw@mapy.cz','gender':'Male'},\n",
    "{'eid':34,'ename':'Sanson','email':'schristianx@stanford.edu','gender':'Male'},\n",
    "{'eid':35,'ename':'Rancell','email':'rgaynesfordy@skyrock.com','gender':'Male'},\n",
    "{'eid':36,'ename':'Gerek','email':'gbrozekz@paypal.com','gender':'Male'},\n",
    "{'eid':37,'ename':'Waverley','email':'wfairest10@myspace.com','gender':'Male'},\n",
    "{'eid':38,'ename':'Valene','email':'vitzig11@histats.com','gender':'Female'},\n",
    "{'eid':39,'ename':'Jeannette','email':'jsaipy12@ycombinator.com','gender':'Female'},\n",
    "{'eid':40,'ename':'Larry','email':'lredwin13@ftc.gov','gender':'Genderqueer'},\n",
    "{'eid':41,'ename':'Sherwynd','email':'sartrick14@ca.gov','gender':'Male'},\n",
    "{'eid':42,'ename':'June','email':'jwinning15@list-manage.com','gender':'Genderqueer'},\n",
    "{'eid':43,'ename':'Hi','email':'hcorrado16@symantec.com','gender':'Male'},\n",
    "{'eid':44,'ename':'ie','email':'vmaunsell17@odnoklassniki.ru','gender':'Male'},\n",
    "{'eid':45,'ename':'Rosamond','email':'rschwaiger18@shinystat.com','gender':'Genderqueer'},\n",
    "{'eid':46,'ename':'Elaina','email':'esertin19@histats.com','gender':'Female'},\n",
    "{'eid':47,'ename':'Mable','email':'mgai1a@blog.com','gender':'Female'},\n",
    "{'eid':48,'ename':'Wash','email':'wklisch1b@wufoo.com','gender':'Male'},\n",
    "{'eid':49,'ename':'Herman','email':'hwilgar1c@aol.com','gender':'Non-binary'},\n",
    "{'eid':50,'ename':'Dee dee','email':'dcooke1d@nationalgeographic.com','gender':'Female'}]\n",
    "\n",
    "#useing for loop \n",
    "\n",
    "for employee in emp:\n",
    "    print(employee['ename'])\n",
    "   \n"
   ]
  },
  {
   "cell_type": "code",
   "execution_count": 9,
   "id": "bdb94fb5-c3f5-42c2-8d59-d72bc1878949",
   "metadata": {},
   "outputs": [
    {
     "ename": "NameError",
     "evalue": "name 'no_female_employe' is not defined",
     "output_type": "error",
     "traceback": [
      "\u001b[1;31m---------------------------------------------------------------------------\u001b[0m",
      "\u001b[1;31mNameError\u001b[0m                                 Traceback (most recent call last)",
      "Cell \u001b[1;32mIn[9], line 60\u001b[0m\n\u001b[0;32m     58\u001b[0m         no_male_empoyee\u001b[38;5;241m=\u001b[39mno_male_empoyee\u001b[38;5;241m+\u001b[39m\u001b[38;5;241m1\u001b[39m\n\u001b[0;32m     59\u001b[0m     \u001b[38;5;28;01melse\u001b[39;00m:\n\u001b[1;32m---> 60\u001b[0m         no_female_employee\u001b[38;5;241m=\u001b[39m\u001b[43mno_female_employe\u001b[49m\u001b[38;5;241m+\u001b[39m\u001b[38;5;241m1\u001b[39m\n\u001b[0;32m     61\u001b[0m \u001b[38;5;28mprint\u001b[39m(employee)\n",
      "\u001b[1;31mNameError\u001b[0m: name 'no_female_employe' is not defined"
     ]
    }
   ],
   "source": [
    "# how to print male and female in dict object for loop \n",
    "\n",
    "emp=[{'eid':1,'ename':'Nixie','email':'nmacquist0@walmart.com','gender':'Female'},\n",
    "{'eid':2,'ename':'Joyce','email':'jnoell1@earthlink.net','gender':'Female'},\n",
    "{'eid':3,'ename':'Barron','email':'bmccullen2@senate.gov','gender':'Male'},\n",
    "{'eid':4,'ename':'Claudie','email':'cwale3@reverbnation.com','gender':'Female'},\n",
    "{'eid':5,'ename':'Damiano','email':'dbourley4@cdbaby.com','gender':'Non-binary'},\n",
    "{'eid':6,'ename':'Maxi','email':'mmanuely5@miitbeian.gov.cn','gender':'Female'},\n",
    "{'eid':7,'ename':'Augusta','email':'ahanham6@163.com','gender':'Female'},\n",
    "{'eid':8,'ename':'Trixy','email':'tstockney7@examiner.com','gender':'Female'},\n",
    "{'eid':9,'ename':'Karalee','email':'kimpson8@amazon.co.uk','gender':'Female'},\n",
    "{'eid':10,'ename':'Jodee','email':'jpresidey9@sohu.com','gender':'Female'},\n",
    "{'eid':11,'ename':'Johnath','email':'jpaintera@telegraph.co.uk','gender':'Female'},\n",
    "{'eid':12,'ename':'Delmer','email':'dgeppb@bloglovin.com','gender':'Male'},\n",
    "{'eid':13,'ename':'Penny','email':'pcollenc@nba.com','gender':'Male'},\n",
    "{'eid':14,'ename':'Regina','email':'rtunnockd@squidoo.com','gender':'Genderqueer'},\n",
    "{'eid':15,'ename':'Vanni','email':'vhaslocke@cocolog-nifty.com','gender':'Female'},\n",
    "{'eid':16,'ename':'Salomone','email':'slabordef@behance.net','gender':'Male'},\n",
    "{'eid':17,'ename':'Ailene','email':'akobschg@tiny.cc','gender':'Genderfluid'},\n",
    "{'eid':18,'ename':'Dane','email':'drappah@cnn.com','gender':'Male'},\n",
    "{'eid':19,'ename':'Marietta','email':'mkinetoni@alibaba.com','gender':'Female'},\n",
    "{'eid':20,'ename':'Becky','email':'blowethj@google.de','gender':'Non-binary'},\n",
    "{'eid':21,'ename':'Aldwin','email':'acanonk@google.co.jp','gender':'Male'},\n",
    "{'eid':22,'ename':'Claiborn','email':'crhymerl@ow.ly','gender':'Male'},\n",
    "{'eid':23,'ename':'Isa','email':'iberndtssenm@yahoo.com','gender':'Male'},\n",
    "{'eid':24,'ename':'Pooh','email':'pwittmann@google.co.jp','gender':'Male'},\n",
    "{'eid':25,'ename':'Arielle','email':'apinchino@163.com','gender':'Genderfluid'},\n",
    "{'eid':26,'ename':'Gerry','email':'gtiltp@diigo.com','gender':'Male'},\n",
    "{'eid':27,'ename':'Richmound','email':'rkilgroveq@howstuffworks.com','gender':'Male'},\n",
    "{'eid':28,'ename':'Vinnie','email':'vgrigoreyr@furl.net','gender':'Male'},\n",
    "{'eid':29,'ename':'Barret','email':'blimpertzs@dmoz.org','gender':'Male'},\n",
    "{'eid':30,'ename':'Matthias','email':'mmacshirriet@cafepress.com','gender':'Male'},\n",
    "{'eid':31,'ename':'Carlotta','email':'cfalkousu@cdc.gov','gender':'Female'},\n",
    "{'eidVirg':32,'ename':'Lyell','email':'lcasemorev@goodreads.com','gender':'Male'},\n",
    "{'eid':33,'ename':'Chester','email':'ctiesw@mapy.cz','gender':'Male'},\n",
    "{'eid':34,'ename':'Sanson','email':'schristianx@stanford.edu','gender':'Male'},\n",
    "{'eid':35,'ename':'Rancell','email':'rgaynesfordy@skyrock.com','gender':'Male'},\n",
    "{'eid':36,'ename':'Gerek','email':'gbrozekz@paypal.com','gender':'Male'},\n",
    "{'eid':37,'ename':'Waverley','email':'wfairest10@myspace.com','gender':'Male'},\n",
    "{'eid':38,'ename':'Valene','email':'vitzig11@histats.com','gender':'Female'},\n",
    "{'eid':39,'ename':'Jeannette','email':'jsaipy12@ycombinator.com','gender':'Female'},\n",
    "{'eid':40,'ename':'Larry','email':'lredwin13@ftc.gov','gender':'Genderqueer'},\n",
    "{'eid':41,'ename':'Sherwynd','email':'sartrick14@ca.gov','gender':'Male'},\n",
    "{'eid':42,'ename':'June','email':'jwinning15@list-manage.com','gender':'Genderqueer'},\n",
    "{'eid':43,'ename':'Hi','email':'hcorrado16@symantec.com','gender':'Male'},\n",
    "{'eid':44,'ename':'ie','email':'vmaunsell17@odnoklassniki.ru','gender':'Male'},\n",
    "{'eid':45,'ename':'Rosamond','email':'rschwaiger18@shinystat.com','gender':'Genderqueer'},\n",
    "{'eid':46,'ename':'Elaina','email':'esertin19@histats.com','gender':'Female'},\n",
    "{'eid':47,'ename':'Mable','email':'mgai1a@blog.com','gender':'Female'},\n",
    "{'eid':48,'ename':'Wash','email':'wklisch1b@wufoo.com','gender':'Male'},\n",
    "{'eid':49,'ename':'Herman','email':'hwilgar1c@aol.com','gender':'Non-binary'},\n",
    "{'eid':50,'ename':'Dee dee','email':'dcooke1d@nationalgeographic.com','gender':'Female'}]\n",
    "\n",
    "no_male_empoyee=0\n",
    "no_female_employee=0\n",
    "for employee in emp:\n",
    "    if employee['gender'] == 'Male':\n",
    "        no_male_empoyee=no_male_empoyee+1\n",
    "    else:\n",
    "        no_female_employee= no_female_employee+1\n",
    "print(employee)\n",
    "\n",
    "    "
   ]
  },
  {
   "cell_type": "code",
   "execution_count": null,
   "id": "33415102-b41e-4023-b1c3-963ac82ef1f2",
   "metadata": {},
   "outputs": [],
   "source": []
  }
 ],
 "metadata": {
  "kernelspec": {
   "display_name": "Python 3 (ipykernel)",
   "language": "python",
   "name": "python3"
  },
  "language_info": {
   "codemirror_mode": {
    "name": "ipython",
    "version": 3
   },
   "file_extension": ".py",
   "mimetype": "text/x-python",
   "name": "python",
   "nbconvert_exporter": "python",
   "pygments_lexer": "ipython3",
   "version": "3.12.5"
  }
 },
 "nbformat": 4,
 "nbformat_minor": 5
}
