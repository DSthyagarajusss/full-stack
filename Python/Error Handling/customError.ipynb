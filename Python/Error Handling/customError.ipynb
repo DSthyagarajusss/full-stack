{
 "cells": [
  {
   "cell_type": "code",
   "execution_count": 8,
   "id": "19aa2e59-f217-41ce-9d7c-0038850bf190",
   "metadata": {},
   "outputs": [
    {
     "name": "stdout",
     "output_type": "stream",
     "text": [
      "gm\n"
     ]
    }
   ],
   "source": [
    "# Rsise:: throing the use defide error\n",
    "class testError(Exception):\n",
    "    def __init__(self,msg):\n",
    "        self.msg=msg\n",
    "def testcase():\n",
    "    if True:\n",
    "        print('gm')\n",
    "    if False:\n",
    "        raise TestError('test error')\n",
    "testcase()"
   ]
  },
  {
   "cell_type": "code",
   "execution_count": 12,
   "id": "bb445985-42d9-4e47-8545-387f5576aad2",
   "metadata": {},
   "outputs": [
    {
     "ename": "ZeroDivisionError",
     "evalue": "cant Devision by 0",
     "output_type": "error",
     "traceback": [
      "\u001b[1;31m---------------------------------------------------------------------------\u001b[0m",
      "\u001b[1;31mZeroDivisionError\u001b[0m                         Traceback (most recent call last)",
      "Cell \u001b[1;32mIn[12], line 4\u001b[0m\n\u001b[0;32m      2\u001b[0m     \u001b[38;5;28;01mdef\u001b[39;00m \u001b[38;5;21m__init__\u001b[39m(\u001b[38;5;28mself\u001b[39m,msg):\n\u001b[0;32m      3\u001b[0m         \u001b[38;5;28mself\u001b[39m\u001b[38;5;241m.\u001b[39mmsg\u001b[38;5;241m=\u001b[39mmsg\n\u001b[1;32m----> 4\u001b[0m \u001b[38;5;28;01mraise\u001b[39;00m \u001b[38;5;167;01mZeroDivisionError\u001b[39;00m(\u001b[38;5;124m'\u001b[39m\u001b[38;5;124mcant Devision by 0\u001b[39m\u001b[38;5;124m'\u001b[39m)\n\u001b[0;32m      5\u001b[0m \u001b[38;5;66;03m#raise InsufficientBalError(\"low bal\")\u001b[39;00m\n\u001b[0;32m      6\u001b[0m \u001b[38;5;28mprint\u001b[39m(\u001b[38;5;124m'\u001b[39m\u001b[38;5;124mhh\u001b[39m\u001b[38;5;124m'\u001b[39m)\n",
      "\u001b[1;31mZeroDivisionError\u001b[0m: cant Devision by 0"
     ]
    }
   ],
   "source": [
    "class InsufficientBal(Exception):\n",
    "    def __init__(self,msg):\n",
    "        self.msg=msg\n",
    "raise ZeroDivisionError('cant Devision by 0')\n",
    "#raise InsufficientBalError(\"low bal\")\n",
    "print('hh')"
   ]
  },
  {
   "cell_type": "code",
   "execution_count": 15,
   "id": "12caa3d2-b393-4730-985d-b974aa4e4c73",
   "metadata": {},
   "outputs": [
    {
     "name": "stdin",
     "output_type": "stream",
     "text": [
      "enter account bal 848484\n"
     ]
    },
    {
     "ename": "InsufficientBal",
     "evalue": "low bal",
     "output_type": "error",
     "traceback": [
      "\u001b[1;31m---------------------------------------------------------------------------\u001b[0m",
      "\u001b[1;31mInsufficientBal\u001b[0m                           Traceback (most recent call last)",
      "Cell \u001b[1;32mIn[15], line 11\u001b[0m\n\u001b[0;32m      9\u001b[0m     \u001b[38;5;28;01melse\u001b[39;00m:\n\u001b[0;32m     10\u001b[0m         \u001b[38;5;28;01mraise\u001b[39;00m InsufficientBal(\u001b[38;5;124m'\u001b[39m\u001b[38;5;124mlow bal\u001b[39m\u001b[38;5;124m'\u001b[39m)\n\u001b[1;32m---> 11\u001b[0m \u001b[43mwithdrawal\u001b[49m\u001b[43m(\u001b[49m\u001b[43m)\u001b[49m\n",
      "Cell \u001b[1;32mIn[15], line 10\u001b[0m, in \u001b[0;36mwithdrawal\u001b[1;34m()\u001b[0m\n\u001b[0;32m      8\u001b[0m     \u001b[38;5;28mprint\u001b[39m(\u001b[38;5;124m'\u001b[39m\u001b[38;5;124mwithdrawa and enjoy\u001b[39m\u001b[38;5;124m'\u001b[39m)\n\u001b[0;32m      9\u001b[0m \u001b[38;5;28;01melse\u001b[39;00m:\n\u001b[1;32m---> 10\u001b[0m     \u001b[38;5;28;01mraise\u001b[39;00m InsufficientBal(\u001b[38;5;124m'\u001b[39m\u001b[38;5;124mlow bal\u001b[39m\u001b[38;5;124m'\u001b[39m)\n",
      "\u001b[1;31mInsufficientBal\u001b[0m: low bal"
     ]
    }
   ],
   "source": [
    "class InsufficientBal(Exception):\n",
    "    def __init__(self,msg):\n",
    "        self.msg=msg\n",
    "def withdrawal ():\n",
    "    amount = int(input('enter account bal'))\n",
    "    acc_bal=5000\n",
    "    if acc_bal>amount:\n",
    "        print('withdrawa and enjoy')\n",
    "    else:\n",
    "        raise InsufficientBal('low bal')\n",
    "withdrawal()"
   ]
  },
  {
   "cell_type": "code",
   "execution_count": 22,
   "id": "9b8806f6-001e-4e94-b428-e03f47207df2",
   "metadata": {},
   "outputs": [
    {
     "name": "stdin",
     "output_type": "stream",
     "text": [
      "enter account bal 77474\n"
     ]
    },
    {
     "name": "stdout",
     "output_type": "stream",
     "text": [
      "low bal\n",
      "good morning\n"
     ]
    }
   ],
   "source": [
    "#how to handl raise\n",
    "\n",
    "class InsufficientBal(Exception):\n",
    "    def __init__(self,msg):\n",
    "        self.msg=msg\n",
    "def withdrawal ():\n",
    "    try:\n",
    "        amount = int(input('enter account bal'))\n",
    "        acc_bal=5000\n",
    "        if acc_bal>amount:\n",
    "            print('withdrawa and enjoy')\n",
    "        else:\n",
    "            raise InsufficientBal('low bal')\n",
    "    except InsufficientBal as err:\n",
    "        print(err.msg)\n",
    "withdrawal()\n",
    "print('good morning')"
   ]
  },
  {
   "cell_type": "code",
   "execution_count": null,
   "id": "cd4eb6c8-2fee-4820-9018-975d349053d0",
   "metadata": {},
   "outputs": [],
   "source": []
  }
 ],
 "metadata": {
  "kernelspec": {
   "display_name": "Python 3 (ipykernel)",
   "language": "python",
   "name": "python3"
  },
  "language_info": {
   "codemirror_mode": {
    "name": "ipython",
    "version": 3
   },
   "file_extension": ".py",
   "mimetype": "text/x-python",
   "name": "python",
   "nbconvert_exporter": "python",
   "pygments_lexer": "ipython3",
   "version": "3.12.5"
  }
 },
 "nbformat": 4,
 "nbformat_minor": 5
}
