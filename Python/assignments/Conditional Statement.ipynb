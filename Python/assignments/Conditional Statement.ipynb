{
 "cells": [
  {
   "cell_type": "code",
   "execution_count": 26,
   "id": "00b6940b-a53b-4d81-94a4-69ece311f061",
   "metadata": {},
   "outputs": [
    {
     "name": "stdin",
     "output_type": "stream",
     "text": [
      "Enter the first number:  2\n",
      "Enter the second number:  2\n"
     ]
    },
    {
     "name": "stdout",
     "output_type": "stream",
     "text": [
      "4\n"
     ]
    }
   ],
   "source": [
    "#1. Write a program to read 2 numbers from the keyboard and print sum?\n",
    "\n",
    "num1 =int(input(\"Enter the first number: \"))\n",
    "num2 =int(input(\"Enter the second number: \"))\n",
    "print(num1+num2)\n",
    "\n",
    "\n"
   ]
  },
  {
   "cell_type": "code",
   "execution_count": 15,
   "id": "fcfd5f1f-1a1a-4086-8b8a-812833793253",
   "metadata": {},
   "outputs": [
    {
     "name": "stdout",
     "output_type": "stream",
     "text": [
      "0\t2\t4\t6\t8\t10\t12\t14\t16\t18\t"
     ]
    }
   ],
   "source": [
    "#2. How to read multiple values from the keyboard in a single line?\n",
    "for x in range(0,20,2):\n",
    "    print(x,end='\\t')"
   ]
  },
  {
   "cell_type": "code",
   "execution_count": 21,
   "id": "371588d1-9668-475b-82bd-ca44d75a038b",
   "metadata": {},
   "outputs": [
    {
     "name": "stdin",
     "output_type": "stream",
     "text": [
      "enter a number 2\n"
     ]
    },
    {
     "name": "stdout",
     "output_type": "stream",
     "text": [
      "not divisible by 7\n"
     ]
    }
   ],
   "source": [
    "# Function to check if a number is divisible by 7\n",
    "num=int(input('enter a number'))\n",
    "if num % 7 ==0:\n",
    "        print ('divisible by 7')\n",
    "else:\n",
    "          print ('not divisible by 7')\n",
    "    \n",
    "\n"
   ]
  },
  {
   "cell_type": "code",
   "execution_count": 17,
   "id": "e6c7d19f-55c1-4554-aa44-3cbd97e451e0",
   "metadata": {},
   "outputs": [
    {
     "name": "stdin",
     "output_type": "stream",
     "text": [
      "enter a numbr 2\n"
     ]
    },
    {
     "name": "stdout",
     "output_type": "stream",
     "text": [
      "not mul of 3\n"
     ]
    }
   ],
   "source": [
    "#4. Program to check if a number is multiple of 3 not not?\n",
    "num=int(input('enter a numbr'))\n",
    "if num %3 ==0:\n",
    "    print('mul of 3')\n",
    "else:\n",
    "    print('not mul of 3')"
   ]
  },
  {
   "cell_type": "code",
   "execution_count": 32,
   "id": "bfba697b-7724-4873-a2fe-119edcd28037",
   "metadata": {},
   "outputs": [
    {
     "name": "stdin",
     "output_type": "stream",
     "text": [
      "enter a number -0\n"
     ]
    },
    {
     "name": "stdout",
     "output_type": "stream",
     "text": [
      "not positive number\n"
     ]
    }
   ],
   "source": [
    "#5. Program to check if a number is positive or not?\n",
    "num=int(input('enter a number'))\n",
    "if num <=0:\n",
    "    print('not positive number')\n",
    "else:\n",
    "    print(' positive number')\n",
    "    "
   ]
  },
  {
   "cell_type": "code",
   "execution_count": null,
   "id": "04d4d48d-f341-4dc5-bbc4-ea00499c48f1",
   "metadata": {},
   "outputs": [],
   "source": [
    "#6. Write a program to take a single digit number from"
   ]
  }
 ],
 "metadata": {
  "kernelspec": {
   "display_name": "Python 3 (ipykernel)",
   "language": "python",
   "name": "python3"
  },
  "language_info": {
   "codemirror_mode": {
    "name": "ipython",
    "version": 3
   },
   "file_extension": ".py",
   "mimetype": "text/x-python",
   "name": "python",
   "nbconvert_exporter": "python",
   "pygments_lexer": "ipython3",
   "version": "3.12.5"
  }
 },
 "nbformat": 4,
 "nbformat_minor": 5
}
