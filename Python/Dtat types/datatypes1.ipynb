{
 "cells": [
  {
   "cell_type": "code",
   "execution_count": null,
   "id": "f01d1422-877c-4d82-a852-fbbc973bccde",
   "metadata": {},
   "outputs": [],
   "source": []
  }
 ],
 "metadata": {
  "kernelspec": {
   "display_name": "",
   "name": ""
  },
  "language_info": {
   "name": ""
  }
 },
 "nbformat": 4,
 "nbformat_minor": 5
}
