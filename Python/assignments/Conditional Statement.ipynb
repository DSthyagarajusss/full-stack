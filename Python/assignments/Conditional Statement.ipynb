{
 "cells": [
  {
   "cell_type": "code",
   "execution_count": 26,
   "id": "00b6940b-a53b-4d81-94a4-69ece311f061",
   "metadata": {},
   "outputs": [
    {
     "name": "stdout",
     "output_type": "stream",
     "text": [
      "Enter the first number:  2\n",
      "Enter the second number:  2\n"
     ]
    },
    {
     "name": "stdout",
     "output_type": "stream",
     "text": [
      "4\n"
     ]
    }
   ],
   "source": [
    "#1. Write a program to read 2 numbers from the keyboard and print sum?\n",
    "\n",
    "num1 =int(input(\"Enter the first number: \"))\n",
    "num2 =int(input(\"Enter the second number: \"))\n",
    "print(num1+num2)\n",
    "\n",
    "\n"
   ]
  },
  {
   "cell_type": "code",
   "execution_count": 15,
   "id": "fcfd5f1f-1a1a-4086-8b8a-812833793253",
   "metadata": {},
   "outputs": [
    {
     "name": "stdout",
     "output_type": "stream",
     "text": [
      "0\t2\t4\t6\t8\t10\t12\t14\t16\t18\t"
     ]
    }
   ],
   "source": [
    "#2. How to read multiple values from the keyboard in a single line?\n",
    "for x in range(0,20,2):\n",
    "    print(x,end='\\t')"
   ]
  },
  {
   "cell_type": "code",
   "execution_count": 21,
   "id": "371588d1-9668-475b-82bd-ca44d75a038b",
   "metadata": {},
   "outputs": [
    {
     "name": "stdout",
     "output_type": "stream",
     "text": [
      "enter a number 2\n"
     ]
    },
    {
     "name": "stdout",
     "output_type": "stream",
     "text": [
      "not divisible by 7\n"
     ]
    }
   ],
   "source": [
    "# Function to check if a number is divisible by 7\n",
    "num=int(input('enter a number'))\n",
    "if num % 7 ==0:\n",
    "        print ('divisible by 7')\n",
    "else:\n",
    "          print ('not divisible by 7')\n",
    "    \n",
    "\n"
   ]
  },
  {
   "cell_type": "code",
   "execution_count": 17,
   "id": "e6c7d19f-55c1-4554-aa44-3cbd97e451e0",
   "metadata": {},
   "outputs": [
    {
     "name": "stdout",
     "output_type": "stream",
     "text": [
      "enter a numbr 2\n"
     ]
    },
    {
     "name": "stdout",
     "output_type": "stream",
     "text": [
      "not mul of 3\n"
     ]
    }
   ],
   "source": [
    "#4. Program to check if a number is multiple of 3 not not?\n",
    "num=int(input('enter a numbr'))\n",
    "if num %3 ==0:\n",
    "    print('mul of 3')\n",
    "else:\n",
    "    print('not mul of 3')"
   ]
  },
  {
   "cell_type": "code",
   "execution_count": 32,
   "id": "bfba697b-7724-4873-a2fe-119edcd28037",
   "metadata": {},
   "outputs": [
    {
     "name": "stdout",
     "output_type": "stream",
     "text": [
      "enter a number -0\n"
     ]
    },
    {
     "name": "stdout",
     "output_type": "stream",
     "text": [
      "not positive number\n"
     ]
    }
   ],
   "source": [
    "#5. Program to check if a number is positive or not?\n",
    "num=int(input('enter a number'))\n",
    "if num <=0:\n",
    "    print('not positive number')\n",
    "else:\n",
    "    print(' positive number')\n",
    "    "
   ]
  },
  {
   "cell_type": "code",
   "execution_count": 11,
   "id": "04d4d48d-f341-4dc5-bbc4-ea00499c48f1",
   "metadata": {},
   "outputs": [
    {
     "name": "stdin",
     "output_type": "stream",
     "text": [
      "Enter a single-digit number (0-10):  10\n"
     ]
    },
    {
     "name": "stdout",
     "output_type": "stream",
     "text": [
      "The number 10 in English is 'ten'.\n"
     ]
    }
   ],
   "source": [
    "#6. Write a program to take a single digit number from the keyboard and print in english..?\n",
    "digit_to_word = {\n",
    "    0: \"Zero\",\n",
    "    1: \"One\",\n",
    "    2: \"Two\",\n",
    "    3: \"Three\",\n",
    "    4: \"Four\",\n",
    "    5: \"Five\",\n",
    "    6: \"Six\",\n",
    "    7: \"Seven\",\n",
    "    8: \"Eight\",\n",
    "    9: \"Nine\",\n",
    "    10: \"ten\"\n",
    "}\n",
    "digit = int(input(\"Enter a single-digit number (0-10): \"))\n",
    "\n",
    "if 0 <= digit <= 10:\n",
    "    print(f\"The number {digit} in English is '{digit_to_word[digit]}'.\")\n",
    "else:\n",
    "    print(\"Please enter a valid single-digit number.\")"
   ]
  },
  {
   "cell_type": "code",
   "execution_count": 11,
   "id": "f97aefcb-fe18-4c5a-8644-e976a475ebc2",
   "metadata": {},
   "outputs": [
    {
     "name": "stdin",
     "output_type": "stream",
     "text": [
      " Please Enter the Second Value b:  66\n",
      " Please Enter the Second Value b:  33\n"
     ]
    },
    {
     "name": "stdout",
     "output_type": "stream",
     "text": [
      "66.0 is Greater than 33.0\n"
     ]
    }
   ],
   "source": [
    "#7. Write a program to find the biggest of given 2 numbers from the command prompt?\n",
    "a=float(input(\" Please Enter the Second Value b: \"))\n",
    "b=float(input(\" Please Enter the Second Value b: \"))\n",
    "\n",
    "if(a > b):\n",
    "    print(\"{0} is Greater than {1}\".format(a, b))\n",
    "elif(b > a):\n",
    "    print(\"{0} is Greater than {1}\".format(b, a))\n",
    "else:\n",
    "    print(\"Both a and b are Equal\")\n"
   ]
  },
  {
   "cell_type": "code",
   "execution_count": 15,
   "id": "c3843d01-af88-4096-879f-6c2310c4aa44",
   "metadata": {},
   "outputs": [
    {
     "name": "stdin",
     "output_type": "stream",
     "text": [
      " Please Enter the First Value :  111\n",
      " Please Enter the Second Value :  1111\n",
      " Please Enter the three Value :  11\n"
     ]
    },
    {
     "name": "stdout",
     "output_type": "stream",
     "text": [
      "second number is big\n"
     ]
    }
   ],
   "source": [
    "#7. Write a program to find the biggest of given 3 numbers from the command prompt?\n",
    "num1= float(input(\" Please Enter the First Value : \"))\n",
    "num2 = float(input(\" Please Enter the Second Value : \"))\n",
    "num3 = float(input(\" Please Enter the three Value : \"))\n",
    "if (num1>num2 and num1>num3):\n",
    "    print('frist number is big')\n",
    "    \n",
    "elif(num2>num1 and num2>num3):\n",
    "    print('second number is big')\n",
    "else:\n",
    "     print('threed number is big')"
   ]
  },
  {
   "cell_type": "code",
   "execution_count": 20,
   "id": "d5b1067c-ce6f-48cf-9bca-7b4bb25ee147",
   "metadata": {},
   "outputs": [
    {
     "name": "stdin",
     "output_type": "stream",
     "text": [
      "enter a num 1232\n"
     ]
    },
    {
     "name": "stdout",
     "output_type": "stream",
     "text": [
      "This number not a three digit number\n"
     ]
    }
   ],
   "source": [
    "# 9. Program to check if a number is a 3-digit number or not?\n",
    "num=int(input('enter a num'))\n",
    "if num>=100 and num<=999:\n",
    "    print('This number is three digit number')\n",
    "else:\n",
    "    print('This number not a three digit number')"
   ]
  },
  {
   "cell_type": "code",
   "execution_count": 26,
   "id": "2be818f4-dba5-4236-a9ff-275b75707c6d",
   "metadata": {},
   "outputs": [
    {
     "name": "stdin",
     "output_type": "stream",
     "text": [
      "Enter a number 5\n"
     ]
    },
    {
     "name": "stdout",
     "output_type": "stream",
     "text": [
      "Odd number\n"
     ]
    }
   ],
   "source": [
    " # 10.Program to print even or odd for a given number from CMD/CLA?\n",
    "num=int(input(\"Enter a number\"))\n",
    "if num%2==0:\n",
    "    print(\"Even number\")\n",
    "else:\n",
    "    print(\"Odd number\")\n",
    "\n"
   ]
  },
  {
   "cell_type": "code",
   "execution_count": 16,
   "id": "52b64f87-5b85-4c08-bb0a-3691319f3427",
   "metadata": {},
   "outputs": [
    {
     "name": "stdout",
     "output_type": "stream",
     "text": [
      "[102, 103, 104]\n"
     ]
    }
   ],
   "source": [
    "#14.Program to print given 3 numbers in ascending order?\n",
    "eids=[104,103,102]\n",
    "eids.sort()\n",
    "print(eids)"
   ]
  },
  {
   "cell_type": "code",
   "execution_count": 18,
   "id": "95be9570-d0d5-4664-a94a-aff7567c2b25",
   "metadata": {},
   "outputs": [
    {
     "name": "stdout",
     "output_type": "stream",
     "text": [
      "[105, 104, 103, 102]\n"
     ]
    }
   ],
   "source": [
    "#15.Program to print given 3 numbers in descending order?\n",
    "eids=[102,103,104,105]\n",
    "eids.sort(reverse=True)\n",
    "print(eids)"
   ]
  },
  {
   "cell_type": "code",
   "execution_count": 26,
   "id": "71748721-1ea3-4888-875a-423629ad0060",
   "metadata": {},
   "outputs": [
    {
     "name": "stdin",
     "output_type": "stream",
     "text": [
      " Please Enter the First Value :  222\n",
      " Please Enter the Second Value :  2222\n"
     ]
    },
    {
     "name": "stdout",
     "output_type": "stream",
     "text": [
      "second number is greatest\n"
     ]
    }
   ],
   "source": [
    "#11.Program to print the greatest number in given two numbers?\n",
    "num1= float(input(\" Please Enter the First Value : \"))\n",
    "num2 = float(input(\" Please Enter the Second Value : \"))\n",
    "if (num1>num2):\n",
    "    print('frist number is greatest')\n",
    "elif (num2>num1):\n",
    "    print('second number is greatest')\n",
    "else:\n",
    "    print('both are equal')"
   ]
  },
  {
   "cell_type": "code",
   "execution_count": 30,
   "id": "9de6c070-51f0-491e-bb36-96adc650e5b1",
   "metadata": {},
   "outputs": [
    {
     "name": "stdin",
     "output_type": "stream",
     "text": [
      " Please Enter the First Value :  77\n",
      " Please Enter the Second Value :  0\n"
     ]
    },
    {
     "name": "stdout",
     "output_type": "stream",
     "text": [
      "second number is small\n"
     ]
    }
   ],
   "source": [
    "#12.Program to print the least/small number is given two numbers?\n",
    "num1= float(input(\" Please Enter the First Value : \"))\n",
    "num2 = float(input(\" Please Enter the Second Value : \"))\n",
    "if (num1<num2):\n",
    "    print('frist number is small')\n",
    "else:\n",
    "    print('second number is small')\n"
   ]
  },
  {
   "cell_type": "code",
   "execution_count": 31,
   "id": "bd21d531-126e-4d60-b07f-25d71a466867",
   "metadata": {},
   "outputs": [
    {
     "name": "stdin",
     "output_type": "stream",
     "text": [
      " Please Enter the First Value :  33\n",
      " Please Enter the Second Value :  33\n",
      " Please Enter the three Value :  33\n"
     ]
    },
    {
     "name": "stdout",
     "output_type": "stream",
     "text": [
      "threed number is big\n"
     ]
    }
   ],
   "source": [
    "#13.Program to print the greatest number in given three numbers?\n",
    "num1= float(input(\" Please Enter the First Value : \"))\n",
    "num2 = float(input(\" Please Enter the Second Value : \"))\n",
    "num3 = float(input(\" Please Enter the three Value : \"))\n",
    "if (num1>num2 and num1>num3):\n",
    "    print('frist number is big')\n",
    "    \n",
    "elif(num2>num1 and num2>num3):\n",
    "    print('second number is big')\n",
    "else:\n",
    "     print('threed number is big')"
   ]
  },
  {
   "cell_type": "code",
   "execution_count": 32,
   "id": "211b2130-f7a9-4ff2-a04a-06290fe24988",
   "metadata": {},
   "outputs": [
    {
     "name": "stdin",
     "output_type": "stream",
     "text": [
      " Please Enter the First Value :  66\n",
      " Please Enter the Second Value :  8\n",
      " Please Enter the three Value :  00\n"
     ]
    },
    {
     "name": "stdout",
     "output_type": "stream",
     "text": [
      "threed number is big\n"
     ]
    }
   ],
   "source": [
    "#16.Program to print min numbers in given 3 numbers ?\n",
    "num1= float(input(\" Please Enter the First Value : \"))\n",
    "num2 = float(input(\" Please Enter the Second Value : \"))\n",
    "num3 = float(input(\" Please Enter the three Value : \"))\n",
    "if (num1<num2 and num1<num3):\n",
    "    print('frist number is big')\n",
    "    \n",
    "elif(num2<num1 and num2<num3):\n",
    "    print('second number is big')\n",
    "else:\n",
    "     print('threed number is big')"
   ]
  },
  {
   "cell_type": "code",
   "execution_count": null,
   "id": "620a40f8-08f4-4106-9bc3-24f60c0c417c",
   "metadata": {},
   "outputs": [],
   "source": [
    "#18.Print min numbers in given 3 numbers - using Ternary Operator?\n",
    "num1= float(input(\" Please Enter the First Value : \"))\n",
    "num2 = float(input(\" Please Enter the Second Value : \"))\n",
    "num3 = float(input(\" Please Enter the three Value : \"))\n",
    "if (num1>num2 and num1>num3):\n",
    "    print('frist number is big')\n",
    "    \n",
    "elif(num2>num1 and num2>num3):\n",
    "    print('second number is big')\n",
    "else:\n",
    "     print('threed number is big')"
   ]
  }
 ],
 "metadata": {
  "kernelspec": {
   "display_name": "Python 3 (ipykernel)",
   "language": "python",
   "name": "python3"
  },
  "language_info": {
   "codemirror_mode": {
    "name": "ipython",
    "version": 3
   },
   "file_extension": ".py",
   "mimetype": "text/x-python",
   "name": "python",
   "nbconvert_exporter": "python",
   "pygments_lexer": "ipython3",
   "version": "3.12.5"
  }
 },
 "nbformat": 4,
 "nbformat_minor": 5
}
