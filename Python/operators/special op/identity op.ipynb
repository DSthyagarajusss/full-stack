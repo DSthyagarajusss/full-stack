{
 "cells": [
  {
   "cell_type": "code",
   "execution_count": 1,
   "id": "6125fb76-1b28-4691-b518-b9a53cd6343f",
   "metadata": {},
   "outputs": [
    {
     "name": "stdout",
     "output_type": "stream",
     "text": [
      "140734225386200\n",
      "140734225392280\n",
      "140734225386200\n"
     ]
    }
   ],
   "source": [
    "# in this we use is and is not\n",
    "a=10\n",
    "b=200\n",
    "c=10\n",
    "print(id(a))\n",
    "print(id(b))\n",
    "print(id(c))"
   ]
  },
  {
   "cell_type": "code",
   "execution_count": 2,
   "id": "bd251554-824c-40ee-a59d-42e41b1ff1ec",
   "metadata": {},
   "outputs": [
    {
     "name": "stdout",
     "output_type": "stream",
     "text": [
      "False\n",
      "True\n"
     ]
    }
   ],
   "source": [
    "a=10\n",
    "b=200\n",
    "c=10\n",
    "print(a is b)\n",
    "\n",
    "print(a is c)"
   ]
  },
  {
   "cell_type": "code",
   "execution_count": 3,
   "id": "ebc51c1f-c68f-475e-9d86-4e6b0e519d5d",
   "metadata": {},
   "outputs": [
    {
     "name": "stdout",
     "output_type": "stream",
     "text": [
      "True\n",
      "False\n"
     ]
    }
   ],
   "source": [
    "#renge\n",
    "r=range(100,1000)\n",
    "print(500 in r)\n",
    "print(5001 in r)"
   ]
  },
  {
   "cell_type": "code",
   "execution_count": null,
   "id": "6f36974a-d382-4bcd-9e50-e2fdc564dcd5",
   "metadata": {},
   "outputs": [],
   "source": []
  }
 ],
 "metadata": {
  "kernelspec": {
   "display_name": "Python 3 (ipykernel)",
   "language": "python",
   "name": "python3"
  },
  "language_info": {
   "codemirror_mode": {
    "name": "ipython",
    "version": 3
   },
   "file_extension": ".py",
   "mimetype": "text/x-python",
   "name": "python",
   "nbconvert_exporter": "python",
   "pygments_lexer": "ipython3",
   "version": "3.12.5"
  }
 },
 "nbformat": 4,
 "nbformat_minor": 5
}
