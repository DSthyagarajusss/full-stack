{
 "cells": [
  {
   "cell_type": "code",
   "execution_count": 4,
   "id": "98fdde42-f2bd-45f0-86b8-6b86284113d2",
   "metadata": {},
   "outputs": [
    {
     "name": "stdout",
     "output_type": "stream",
     "text": [
      "2438175705568\n",
      "2438175719008\n",
      "{}\n",
      "{}\n"
     ]
    }
   ],
   "source": [
    "# class contains method and variables \n",
    "class employee:\n",
    "    pass\n",
    "e1=employee()\n",
    "e2=employee()\n",
    "print(id(e1))\n",
    "print(id(e2))\n",
    "print(e1.__dict__)\n",
    "print(e2.__dict__)"
   ]
  },
  {
   "cell_type": "code",
   "execution_count": 7,
   "id": "3ca511bf-bd3e-4ffb-8538-db85a40d5b4a",
   "metadata": {},
   "outputs": [
    {
     "name": "stdout",
     "output_type": "stream",
     "text": [
      "2438177041840\n",
      "2438175715696\n",
      "{}\n",
      "{}\n",
      "{'__module__': '__main__', 'loc': 'bel', '__dict__': <attribute '__dict__' of 'employee' objects>, '__weakref__': <attribute '__weakref__' of 'employee' objects>, '__doc__': None}\n"
     ]
    }
   ],
   "source": [
    "#class level variables \n",
    "class employee:\n",
    "    loc='bel'\n",
    "e1=employee()\n",
    "e2=employee()\n",
    "print(id(e1))\n",
    "print(id(e2))\n",
    "print(e1.__dict__)\n",
    "print(e2.__dict__)\n",
    "print(employee.__dict__)"
   ]
  },
  {
   "cell_type": "code",
   "execution_count": 15,
   "id": "bd2a7e6c-6116-4c2a-9d78-a592e7dc6abf",
   "metadata": {},
   "outputs": [
    {
     "name": "stdout",
     "output_type": "stream",
     "text": [
      "{}\n",
      "{}\n",
      "{'__module__': '__main__', '__annotations__': {'min_bal': 500}, '__dict__': <attribute '__dict__' of 'Account' objects>, '__weakref__': <attribute '__weakref__' of 'Account' objects>, '__doc__': None}\n"
     ]
    }
   ],
   "source": [
    "# how to crate a method \n",
    "class Account:\n",
    "    min_bal:500\n",
    "   \n",
    "def open_account(self):\n",
    "    print('account open successfully') \n",
    "@classmethod\n",
    "def m2(cls):\n",
    "    pass\n",
    "@staticmethod\n",
    "def m2():\n",
    "    pass\n",
    "a1=Account()\n",
    "a2=Account()\n",
    "print(a1.__dict__)\n",
    "print(a2.__dict__)\n",
    "print(Account.__dict__)\n",
    "# a1.opne_account()\n",
    "# a2.open_account()\n"
   ]
  },
  {
   "cell_type": "code",
   "execution_count": 17,
   "id": "b66b56d9-ae9d-4961-b02d-75c7828d8dc3",
   "metadata": {},
   "outputs": [
    {
     "name": "stdout",
     "output_type": "stream",
     "text": [
      "account open successfully \n",
      "amout is deposit done\n",
      "withdraw successfully\n",
      "plse add amount\n"
     ]
    }
   ],
   "source": [
    "class Account:\n",
    "    def open_account(self):\n",
    "        print('account open successfully ')\n",
    "    def deposit(self):\n",
    "        print('amout is deposit done')\n",
    "    def withdraw(self):\n",
    "        print('withdraw successfully')\n",
    "    def low_bal(self):\n",
    "        print('plse add amount')\n",
    "a1=Account()\n",
    "a1.open_account()\n",
    "a1.deposit()\n",
    "a1.withdraw()\n",
    "a1.low_bal()\n",
    "    "
   ]
  },
  {
   "cell_type": "code",
   "execution_count": 29,
   "id": "959c9186-67fd-4b69-95ce-098eb9e934eb",
   "metadata": {},
   "outputs": [
    {
     "name": "stdout",
     "output_type": "stream",
     "text": [
      "{'__module__': '__main__', 'deposit': <staticmethod(<function Account.deposit at 0x00000237AF0DA980>)>, '__dict__': <attribute '__dict__' of 'Account' objects>, '__weakref__': <attribute '__weakref__' of 'Account' objects>, '__doc__': None}\n",
      "amount is deposit done\n"
     ]
    }
   ],
   "source": [
    "class Account:\n",
    "    @staticmethod\n",
    "    def deposit(a,b):\n",
    "        print('amount is deposit done')\n",
    "   \n",
    "a1=Account()\n",
    "# print(Account.__dict__)\n",
    "a1.deposit(5,7)\n",
    "\n",
    "    "
   ]
  },
  {
   "cell_type": "code",
   "execution_count": 25,
   "id": "4a86c1d4-527f-4126-9ab3-2971755da31e",
   "metadata": {},
   "outputs": [
    {
     "name": "stdout",
     "output_type": "stream",
     "text": [
      "30\n"
     ]
    }
   ],
   "source": [
    "def deposit(self,a):\n",
    "    print(self+a)\n",
    "\n",
    "deposit(10,20)"
   ]
  },
  {
   "cell_type": "code",
   "execution_count": null,
   "id": "133a0463-a08e-407d-940d-17da1ef63953",
   "metadata": {},
   "outputs": [],
   "source": []
  }
 ],
 "metadata": {
  "kernelspec": {
   "display_name": "Python 3 (ipykernel)",
   "language": "python",
   "name": "python3"
  },
  "language_info": {
   "codemirror_mode": {
    "name": "ipython",
    "version": 3
   },
   "file_extension": ".py",
   "mimetype": "text/x-python",
   "name": "python",
   "nbconvert_exporter": "python",
   "pygments_lexer": "ipython3",
   "version": "3.12.5"
  }
 },
 "nbformat": 4,
 "nbformat_minor": 5
}
