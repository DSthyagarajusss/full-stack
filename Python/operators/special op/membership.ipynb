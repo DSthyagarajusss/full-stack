{
 "cells": [
  {
   "cell_type": "code",
   "execution_count": 3,
   "id": "26aa9fea-7ded-4f31-904d-17ec7e9d70ef",
   "metadata": {},
   "outputs": [
    {
     "name": "stdout",
     "output_type": "stream",
     "text": [
      "True\n"
     ]
    }
   ],
   "source": [
    "print('a' in 'rahul')\n",
    "      "
   ]
  },
  {
   "cell_type": "code",
   "execution_count": 6,
   "id": "0f631e37-359d-4a0d-8a2b-02fc42681cdb",
   "metadata": {},
   "outputs": [
    {
     "name": "stdout",
     "output_type": "stream",
     "text": [
      "True\n",
      "False\n",
      "True\n"
     ]
    }
   ],
   "source": [
    "ename='rahul'\n",
    "enames=['rahul','raju','ramu']\n",
    "t=(10,202,30,3030)\n",
    "s={101,102,103}\n",
    "emp={'id':101,'name':'raju'}\n",
    "\n",
    "print('h' in ename)\n",
    "print('h' not in ename)\n",
    "print('raju' in enames)\n"
   ]
  },
  {
   "cell_type": "code",
   "execution_count": 9,
   "id": "7271320a-e125-4628-8968-3d88c86526bf",
   "metadata": {},
   "outputs": [
    {
     "name": "stdout",
     "output_type": "stream",
     "text": [
      "<class 'dict'>\n",
      "True\n",
      "False\n"
     ]
    }
   ],
   "source": [
    "#dict\n",
    "emp={'id':101,'name':'raju'}\n",
    "print(type(emp))\n",
    "print('id' in emp)\n",
    "print('raju' in emp)"
   ]
  },
  {
   "cell_type": "code",
   "execution_count": null,
   "id": "f257643d-652d-4377-9117-48dbab8147c6",
   "metadata": {},
   "outputs": [],
   "source": []
  }
 ],
 "metadata": {
  "kernelspec": {
   "display_name": "Python 3 (ipykernel)",
   "language": "python",
   "name": "python3"
  },
  "language_info": {
   "codemirror_mode": {
    "name": "ipython",
    "version": 3
   },
   "file_extension": ".py",
   "mimetype": "text/x-python",
   "name": "python",
   "nbconvert_exporter": "python",
   "pygments_lexer": "ipython3",
   "version": "3.12.5"
  }
 },
 "nbformat": 4,
 "nbformat_minor": 5
}
