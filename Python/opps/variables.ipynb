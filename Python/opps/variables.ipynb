{
 "cells": [
  {
   "cell_type": "code",
   "execution_count": 1,
   "id": "7409b310-ce6a-46a2-8f0d-ed2a0ab99271",
   "metadata": {},
   "outputs": [],
   "source": [
    "# variables  types\n",
    "# 1.instance:: if  varibale value varied form object to object \n",
    "#2. static/class :not varied from obj to obj /only one copy will create at object level\n",
    "#3.local:"
   ]
  },
  {
   "cell_type": "code",
   "execution_count": 8,
   "id": "d66f4bf2-61f6-49f3-b144-44b29b096626",
   "metadata": {},
   "outputs": [
    {
     "name": "stdout",
     "output_type": "stream",
     "text": [
      "{'eid': 101, 'ename': 'raju', 'esal': 73733}\n",
      "{'eid': 102, 'ename': 'rahul', 'esal': 77822}\n",
      "{'eid': 103, 'ename': 'kumar', 'esal': 93983}\n"
     ]
    }
   ],
   "source": [
    "class employee:\n",
    "    company_name:'tcs'\n",
    "    def __init__(self,id,name,sal):# counstracter method\n",
    "        self.eid=id\n",
    "        self.ename=name\n",
    "        self.esal=sal\n",
    "e1=employee(101,'raju',73733)\n",
    "print(e1.__dict__)\n",
    "e2=employee(102,'rahul',77822)\n",
    "print(e2.__dict__)\n",
    "e3=employee(103,'kumar',93983)\n",
    "print(e3.__dict__)"
   ]
  },
  {
   "cell_type": "code",
   "execution_count": 14,
   "id": "f5ee7b80-e01f-4c2e-8ab4-fff370645af6",
   "metadata": {},
   "outputs": [
    {
     "name": "stdout",
     "output_type": "stream",
     "text": [
      "{'a': 100, 'b': 100}\n",
      "{'a': 100}\n"
     ]
    }
   ],
   "source": [
    "#instace vaiable \n",
    "class test:\n",
    "    def __init__(self):### constarcter method using self \n",
    "        \n",
    "        self.a=100 ## inside instace method using self\n",
    "    def m1(self):# outside a class using object\n",
    "        self.b=100\n",
    "    @classmethod\n",
    "    def m2(cls):\n",
    "        print(self.a)  # how to read :: inside a class using class\n",
    "                        #outside a class useing object \n",
    "    @staticmethod\n",
    "    def m3():\n",
    "        pass\n",
    "       \n",
    "t1=test()\n",
    "t2=test()\n",
    "t1.m1()\n",
    "\n",
    "print(t1.__dict__)\n",
    "\n",
    "print(t2.__dict__)"
   ]
  },
  {
   "cell_type": "code",
   "execution_count": 15,
   "id": "e95a2ae2-b504-4a04-83a6-c579123d89f8",
   "metadata": {},
   "outputs": [
    {
     "name": "stdout",
     "output_type": "stream",
     "text": [
      "{'__module__': '__main__', 'a': 100, '__init__': <function test.__init__ at 0x000002497F20FD80>, '__dict__': <attribute '__dict__' of 'test' objects>, '__weakref__': <attribute '__weakref__' of 'test' objects>, '__doc__': None}\n"
     ]
    }
   ],
   "source": [
    "##static variable using constarcter\n",
    "#how to create class /static varibles \n",
    "# inside and outside class uing class name \n",
    "\n",
    "class test():\n",
    "    a=100\n",
    "    def __init__(self):\n",
    "        b=1001\n",
    "t1=test()\n",
    "print(test.__dict__)"
   ]
  },
  {
   "cell_type": "code",
   "execution_count": 17,
   "id": "ecf2d208-fd5c-44cf-96c0-0a3949e5c49d",
   "metadata": {},
   "outputs": [
    {
     "name": "stdout",
     "output_type": "stream",
     "text": [
      "{'__module__': '__main__', 'a': 100, '__init__': <function test.__init__ at 0x000002497F20FE20>, 'm1': <function test.m1 at 0x000002497F3082C0>, 'm2': <classmethod(<function test.m2 at 0x000002497F308040>)>, 'm3': <staticmethod(<function test.m3 at 0x000002497F3080E0>)>, '__dict__': <attribute '__dict__' of 'test' objects>, '__weakref__': <attribute '__weakref__' of 'test' objects>, '__doc__': None, 'b': 3032, 'g': 700, 'c': 5332, 'd': 88, 'f': 884432}\n"
     ]
    }
   ],
   "source": [
    "##static variable using constarcter\n",
    "#how to create class /static varibles \n",
    "# inside and outside class uing class name\n",
    "\n",
    "class test():\n",
    "    a=100\n",
    "    def __init__(self):\n",
    "        test.b=3032\n",
    "    def m1(self):\n",
    "        test.c=99\n",
    "    @classmethod\n",
    "    def m2 (cls):\n",
    "        test.d=88\n",
    "        cls.c=5332\n",
    "    @staticmethod\n",
    "    def m3 ():\n",
    "        test.f=884432\n",
    "t1=test()\n",
    "test.g=700\n",
    "t1.m1()\n",
    "t1.m2()\n",
    "t1.m3()\n",
    "print(test.__dict__)"
   ]
  },
  {
   "cell_type": "code",
   "execution_count": null,
   "id": "3ac5420e-0a6d-43bc-a9c8-b9574d714d0d",
   "metadata": {},
   "outputs": [],
   "source": []
  }
 ],
 "metadata": {
  "kernelspec": {
   "display_name": "Python 3 (ipykernel)",
   "language": "python",
   "name": "python3"
  },
  "language_info": {
   "codemirror_mode": {
    "name": "ipython",
    "version": 3
   },
   "file_extension": ".py",
   "mimetype": "text/x-python",
   "name": "python",
   "nbconvert_exporter": "python",
   "pygments_lexer": "ipython3",
   "version": "3.12.5"
  }
 },
 "nbformat": 4,
 "nbformat_minor": 5
}
