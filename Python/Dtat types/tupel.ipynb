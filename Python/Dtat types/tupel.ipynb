{
 "cells": [
  {
   "cell_type": "code",
   "execution_count": 1,
   "id": "6389dd83-452f-49b4-a148-47dadf9e2d9d",
   "metadata": {},
   "outputs": [],
   "source": [
    "# tuple: -group of elements as on entity   -alowed duplicates and hetrogeneous elements\n",
    "#        - indexing is possible and negitive indexing also possible   -tuple object are create we can't perfrom update and delete opration\n",
    "#        - it is a read only object  -insertion oder is mantained/oder garenty"
   ]
  },
  {
   "cell_type": "code",
   "execution_count": 5,
   "id": "62836527-5fa7-49a9-9fc9-1b4c30649beb",
   "metadata": {},
   "outputs": [
    {
     "name": "stdout",
     "output_type": "stream",
     "text": [
      "()\n",
      "10\n",
      "(10, 12, 32, 22)\n",
      "(10, 20, 204, 4043, 4041)\n",
      "range(0, 10)\n"
     ]
    }
   ],
   "source": [
    "# how to create a tuple using copy\n",
    "t1= ()\n",
    "t2 =10\n",
    "t3= 10,12,32,22\n",
    "t4=(10,20,204,4043,4041)\n",
    "t5=(range(10))\n",
    "\n",
    "print(t1)\n",
    "print(t2)\n",
    "print(t3)\n",
    "print(t4)\n",
    "print(t5)\n",
    "\n"
   ]
  },
  {
   "cell_type": "code",
   "execution_count": 7,
   "id": "8519201d-c9de-40fc-8f97-40d51cecd62b",
   "metadata": {},
   "outputs": [
    {
     "name": "stdout",
     "output_type": "stream",
     "text": [
      "raju\n"
     ]
    }
   ],
   "source": [
    "#acseing tuple elements using indexing\n",
    "enames=('ramu','raju','rahul','koma')\n",
    "print(enames[1])"
   ]
  },
  {
   "cell_type": "code",
   "execution_count": 13,
   "id": "7b96efa6-aa80-415f-afde-017764a31348",
   "metadata": {},
   "outputs": [
    {
     "name": "stdout",
     "output_type": "stream",
     "text": [
      "ramu\n",
      "raju\n",
      "rahul\n",
      "koma\n"
     ]
    }
   ],
   "source": [
    "#iterate tuple for loop \n",
    "enames=('ramu','raju','rahul','koma')\n",
    "for ename in enames:\n",
    "    print(ename)"
   ]
  },
  {
   "cell_type": "code",
   "execution_count": 15,
   "id": "da3ddb49-07df-4151-b2b7-fbd770fed4dd",
   "metadata": {},
   "outputs": [
    {
     "name": "stdout",
     "output_type": "stream",
     "text": [
      "ramu\n",
      "raju\n",
      "rahul\n",
      "koma\n"
     ]
    }
   ],
   "source": [
    "#iterate tuple while  loop \n",
    "enames=('ramu','raju','rahul','koma')\n",
    "\n",
    "\n",
    "i=0\n",
    "while i<=len(enames)-1:\n",
    "    print(enames[i])\n",
    "    i=i+1\n",
    "\n"
   ]
  },
  {
   "cell_type": "code",
   "execution_count": 20,
   "id": "a3b295bd-01ce-4dcf-a43b-6cb1ab236da1",
   "metadata": {},
   "outputs": [
    {
     "name": "stdout",
     "output_type": "stream",
     "text": [
      "['koma', 'ragu', 'rahul', 'raju', 'ramu']\n",
      "('koma', 'ragu', 'rahul', 'raju', 'ramu')\n"
     ]
    }
   ],
   "source": [
    "#sorting a tuple \n",
    "enames=('ramu','raju','rahul','koma','ragu')\n",
    "new_name=sorted(enames)\n",
    "print(new_name)\n",
    "enames =tuple(new_name)\n",
    "print(enames)"
   ]
  },
  {
   "cell_type": "code",
   "execution_count": 23,
   "id": "69f5561b-9e24-4b68-9fcb-588200c6b04b",
   "metadata": {},
   "outputs": [
    {
     "name": "stdout",
     "output_type": "stream",
     "text": [
      "2\n"
     ]
    }
   ],
   "source": [
    "# count \n",
    "enames=('ramu','raju','rahul','koma','ragu','koma')\n",
    "print(enames.count('koma'))\n"
   ]
  },
  {
   "cell_type": "code",
   "execution_count": null,
   "id": "23e6ffdf-4187-4b58-abdb-6c1ac884dd07",
   "metadata": {},
   "outputs": [],
   "source": [
    " "
   ]
  }
 ],
 "metadata": {
  "kernelspec": {
   "display_name": "Python 3 (ipykernel)",
   "language": "python",
   "name": "python3"
  },
  "language_info": {
   "codemirror_mode": {
    "name": "ipython",
    "version": 3
   },
   "file_extension": ".py",
   "mimetype": "text/x-python",
   "name": "python",
   "nbconvert_exporter": "python",
   "pygments_lexer": "ipython3",
   "version": "3.12.5"
  }
 },
 "nbformat": 4,
 "nbformat_minor": 5
}
