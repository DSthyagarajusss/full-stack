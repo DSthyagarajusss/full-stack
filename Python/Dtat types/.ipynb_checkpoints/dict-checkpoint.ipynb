{
 "cells": [
  {
   "cell_type": "code",
   "execution_count": 1,
   "id": "68471382-6b34-46ea-b7a1-6ecfd0101590",
   "metadata": {},
   "outputs": [],
   "source": [
    "#     -group of key-value as on entity   -duplicates key or not alloed b -group of  proertys as one entityy\n",
    "#          -dict object are create we can perfrom update and delete opration\n",
    "#         -insertion oder is mantained/oder garenty"
   ]
  },
  {
   "cell_type": "code",
   "execution_count": 5,
   "id": "655654d3-e1f8-4630-ba36-988325325bdb",
   "metadata": {},
   "outputs": [
    {
     "name": "stdout",
     "output_type": "stream",
     "text": [
      "{'eid': 101, 'enames': 'raju', 'sal': 345353, 'avail': True}\n",
      "<class 'dict'>\n"
     ]
    }
   ],
   "source": [
    "#how to create a dict objcert \n",
    "emp={\n",
    "    'eid':101,\n",
    "    'enames':'raju',\n",
    "    'sal':345353,\n",
    "    'avail':True\n",
    "}\n",
    "print(emp)\n",
    "print(type(emp))"
   ]
  },
  {
   "cell_type": "code",
   "execution_count": 7,
   "id": "bb23cc1d-6fd0-49cf-879b-22b2ae8f0ed0",
   "metadata": {},
   "outputs": [
    {
     "name": "stdout",
     "output_type": "stream",
     "text": [
      "raju\n"
     ]
    }
   ],
   "source": [
    "#read method\n",
    "emp={\n",
    "    'eid':101,\n",
    "    'ename':'raju',\n",
    "    'sal':345353,\n",
    "    'avail':True\n",
    "}\n",
    "print(emp['ename'])"
   ]
  },
  {
   "cell_type": "code",
   "execution_count": 9,
   "id": "273f9891-db1b-4bbb-8542-2f770692fdee",
   "metadata": {},
   "outputs": [
    {
     "name": "stdout",
     "output_type": "stream",
     "text": [
      "101\n",
      "raju\n",
      "345353\n",
      "True\n"
     ]
    }
   ],
   "source": [
    "# print all dict values\n",
    "emp={\n",
    "    'eid':101,\n",
    "    'ename':'raju',\n",
    "    'sal':345353,\n",
    "    'avail':True\n",
    "}\n",
    "print(emp['eid'])\n",
    "print(emp['ename'])\n",
    "print(emp['sal'])\n",
    "print(emp['avail'])"
   ]
  },
  {
   "cell_type": "code",
   "execution_count": 13,
   "id": "2409ac98-5889-4f44-b956-4f0b785b2fad",
   "metadata": {},
   "outputs": [
    {
     "name": "stdout",
     "output_type": "stream",
     "text": [
      "101\n",
      "raju\n",
      "345353\n",
      "True\n"
     ]
    }
   ],
   "source": [
    "# print all dict values usening grt method()\n",
    "emp={\n",
    "    'eid':101,\n",
    "    'ename':'raju',\n",
    "    'sal':345353,\n",
    "    'avail':True\n",
    "}\n",
    "print(emp.get('eid'))\n",
    "print(emp.get('ename'))\n",
    "print(emp.get('sal'))\n",
    "print(emp.get('avail'))"
   ]
  },
  {
   "cell_type": "code",
   "execution_count": 14,
   "id": "d0f2601b-961b-4649-822f-38d52e7c00d8",
   "metadata": {},
   "outputs": [
    {
     "name": "stdout",
     "output_type": "stream",
     "text": [
      "eid\n",
      "ename\n",
      "sal\n",
      "avail\n"
     ]
    }
   ],
   "source": [
    "# itaret dict keys for loop:\n",
    "emp={\n",
    "    'eid':101,\n",
    "    'ename':'raju',\n",
    "    'sal':345353,\n",
    "    'avail':True\n",
    "}\n",
    "\n",
    "for key in emp.keys():\n",
    "    print(key)"
   ]
  },
  {
   "cell_type": "code",
   "execution_count": 18,
   "id": "9f429dec-7b65-45a8-8351-d68e915349f2",
   "metadata": {},
   "outputs": [
    {
     "name": "stdout",
     "output_type": "stream",
     "text": [
      "101\n",
      "raju\n",
      "345353\n",
      "True\n"
     ]
    }
   ],
   "source": [
    "# itaret dict key-values for loop:\n",
    "emp={\n",
    "    'eid':101,\n",
    "    'ename':'raju',\n",
    "    'sal':345353,\n",
    "    'avail':True\n",
    "}\n",
    "\n",
    "for value in emp.values():\n",
    "    print(value)"
   ]
  },
  {
   "cell_type": "code",
   "execution_count": 21,
   "id": "68112794-6c76-4fcc-bf98-86eb31de4577",
   "metadata": {},
   "outputs": [
    {
     "name": "stdout",
     "output_type": "stream",
     "text": [
      "eid 101\n",
      "ename raju\n",
      "sal 345353\n",
      "avail True\n"
     ]
    }
   ],
   "source": [
    "# to print items in dict using for loop\n",
    "emp={\n",
    "    'eid':101,\n",
    "    'ename':'raju',\n",
    "    'sal':345353,\n",
    "    'avail':True\n",
    "}\n",
    "\n",
    "for key,value in emp.items():\n",
    "    print(key,value)"
   ]
  },
  {
   "cell_type": "code",
   "execution_count": null,
   "id": "8a42aacb-ac16-43a8-ab86-3efcf253761c",
   "metadata": {},
   "outputs": [],
   "source": []
  }
 ],
 "metadata": {
  "kernelspec": {
   "display_name": "Python 3 (ipykernel)",
   "language": "python",
   "name": "python3"
  },
  "language_info": {
   "codemirror_mode": {
    "name": "ipython",
    "version": 3
   },
   "file_extension": ".py",
   "mimetype": "text/x-python",
   "name": "python",
   "nbconvert_exporter": "python",
   "pygments_lexer": "ipython3",
   "version": "3.12.5"
  }
 },
 "nbformat": 4,
 "nbformat_minor": 5
}
