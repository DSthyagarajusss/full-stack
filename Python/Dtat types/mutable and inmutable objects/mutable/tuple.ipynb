{
 "cells": [
  {
   "cell_type": "code",
   "execution_count": 3,
   "id": "ff5059cc-b543-454b-b83d-e61bc6d133ad",
   "metadata": {},
   "outputs": [
    {
     "ename": "AttributeError",
     "evalue": "'tuple' object has no attribute 'clear'",
     "output_type": "error",
     "traceback": [
      "\u001b[1;31m---------------------------------------------------------------------------\u001b[0m",
      "\u001b[1;31mAttributeError\u001b[0m                            Traceback (most recent call last)",
      "Cell \u001b[1;32mIn[3], line 6\u001b[0m\n\u001b[0;32m      4\u001b[0m l\u001b[38;5;241m.\u001b[39mclear\n\u001b[0;32m      5\u001b[0m s\u001b[38;5;241m.\u001b[39mclear\n\u001b[1;32m----> 6\u001b[0m \u001b[43mt\u001b[49m\u001b[38;5;241;43m.\u001b[39;49m\u001b[43mclear\u001b[49m\n",
      "\u001b[1;31mAttributeError\u001b[0m: 'tuple' object has no attribute 'clear'"
     ]
    }
   ],
   "source": [
    "#tupe : read only version of list we cont pefrom crud operations\n",
    "\n",
    "l=[2.3,344,33]\n",
    "t=(10,22,33)\n",
    "s={232,42,33}\n",
    "l.clear\n",
    "s.clear\n",
    "t.clear"
   ]
  },
  {
   "cell_type": "code",
   "execution_count": null,
   "id": "4fe5b81c-c68f-4674-af12-6cdd8bbe16d7",
   "metadata": {},
   "outputs": [],
   "source": []
  }
 ],
 "metadata": {
  "kernelspec": {
   "display_name": "Python 3 (ipykernel)",
   "language": "python",
   "name": "python3"
  },
  "language_info": {
   "codemirror_mode": {
    "name": "ipython",
    "version": 3
   },
   "file_extension": ".py",
   "mimetype": "text/x-python",
   "name": "python",
   "nbconvert_exporter": "python",
   "pygments_lexer": "ipython3",
   "version": "3.12.5"
  }
 },
 "nbformat": 4,
 "nbformat_minor": 5
}
