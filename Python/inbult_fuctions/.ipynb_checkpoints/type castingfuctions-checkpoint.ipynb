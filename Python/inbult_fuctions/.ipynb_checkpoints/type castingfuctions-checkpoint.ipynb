{
 "cells": [
  {
   "cell_type": "code",
   "execution_count": null,
   "id": "9da3974a-fd19-4534-8ff2-953560519a1c",
   "metadata": {},
   "outputs": [],
   "source": [
    "esal=64747\n",
    "print(type(esal))\n",
    "esal=int(esal)\n",
    "print(esal)\n",
    "print(type(esal)\n"
   ]
  }
 ],
 "metadata": {
  "kernelspec": {
   "display_name": "Python 3 (ipykernel)",
   "language": "python",
   "name": "python3"
  },
  "language_info": {
   "codemirror_mode": {
    "name": "ipython",
    "version": 3
   },
   "file_extension": ".py",
   "mimetype": "text/x-python",
   "name": "python",
   "nbconvert_exporter": "python",
   "pygments_lexer": "ipython3",
   "version": "3.12.5"
  }
 },
 "nbformat": 4,
 "nbformat_minor": 5
}
