{
 "cells": [
  {
   "cell_type": "markdown",
   "id": "c203c5d6-e97e-4c01-8f85-8990640ea29e",
   "metadata": {},
   "source": [
    "Abstraction::\n",
    " a fundamental concept in Python programming that allows us to simplify complex concepts and focus on the essential details.\n"
   ]
  },
  {
   "cell_type": "code",
   "execution_count": null,
   "id": "71743007-e30b-44f8-b3a4-98e66b17317c",
   "metadata": {},
   "outputs": [],
   "source": []
  },
  {
   "cell_type": "code",
   "execution_count": 7,
   "id": "0f0575da-0c4d-4749-a976-22869d496b30",
   "metadata": {},
   "outputs": [
    {
     "name": "stdout",
     "output_type": "stream",
     "text": [
      "['ABC', 'ABCMeta', '__builtins__', '__doc__', '__file__', '__loader__', '__name__', '__package__', '__spec__', '_abc_init', '_abc_instancecheck', '_abc_register', '_abc_subclasscheck', '_get_dump', '_reset_caches', '_reset_registry', 'abstractclassmethod', 'abstractmethod', 'abstractproperty', 'abstractstaticmethod', 'get_cache_token', 'update_abstractmethods']\n",
      "['__doc__', '__loader__', '__name__', '__package__', '__spec__', 'acos', 'acosh', 'asin', 'asinh', 'atan', 'atan2', 'atanh', 'cbrt', 'ceil', 'comb', 'copysign', 'cos', 'cosh', 'degrees', 'dist', 'e', 'erf', 'erfc', 'exp', 'exp2', 'expm1', 'fabs', 'factorial', 'floor', 'fmod', 'frexp', 'fsum', 'gamma', 'gcd', 'hypot', 'inf', 'isclose', 'isfinite', 'isinf', 'isnan', 'isqrt', 'lcm', 'ldexp', 'lgamma', 'log', 'log10', 'log1p', 'log2', 'modf', 'nan', 'nextafter', 'perm', 'pi', 'pow', 'prod', 'radians', 'remainder', 'sin', 'sinh', 'sqrt', 'sumprod', 'tan', 'tanh', 'tau', 'trunc', 'ulp']\n"
     ]
    }
   ],
   "source": [
    "import abc\n",
    "import math\n",
    "print(dir(abc)) #dit deolying the \n",
    "print(dir(math))"
   ]
  },
  {
   "cell_type": "code",
   "execution_count": 8,
   "id": "2f4c0e49-401f-4bc7-b9fd-7f401ca3c28c",
   "metadata": {},
   "outputs": [
    {
     "name": "stdout",
     "output_type": "stream",
     "text": [
      "<__main__.Bank object at 0x000002513292EF90>\n",
      "2547764096912\n"
     ]
    }
   ],
   "source": [
    "#careate a objcet in abstraction\n",
    "from abc import *\n",
    "\n",
    "class Bank(ABC):\n",
    "    def cal_tax(self):\n",
    "        pass\n",
    "b=Bank()\n",
    "print(b)\n",
    "print(id(b))"
   ]
  },
  {
   "cell_type": "code",
   "execution_count": 11,
   "id": "9d1d30b6-68c8-4df4-b74f-ac0faa894f67",
   "metadata": {},
   "outputs": [
    {
     "name": "stdout",
     "output_type": "stream",
     "text": [
      "<__main__.Bank object at 0x0000025132A9A450>\n",
      "2547765584976\n"
     ]
    }
   ],
   "source": [
    "\n",
    "from abc import *\n",
    "\n",
    "class Bank:\n",
    "    @abstractmethod\n",
    "    def cal_tax(self):\n",
    "        pass\n",
    "b=Bank()\n",
    "print(b)\n",
    "print(id(b))"
   ]
  },
  {
   "cell_type": "code",
   "execution_count": 18,
   "id": "a044c059-4b79-40ee-835f-599aa52e867b",
   "metadata": {},
   "outputs": [
    {
     "name": "stdout",
     "output_type": "stream",
     "text": [
      "500\n"
     ]
    }
   ],
   "source": [
    "from abc import *\n",
    "class Bank(ABC):\n",
    "    @abstractmethod\n",
    "    def cal_tax(self):\n",
    "        pass\n",
    "class Account(Bank):\n",
    "    min_bal=500\n",
    "    def __init__(self,id,name,amount):\n",
    "        self.acc_id=id\n",
    "        self.acc_name=name\n",
    "        self.acc_bal=amount\n",
    "\n",
    "    def cal_tax(self):\n",
    "        return self.acc_bal - self.min_bal\n",
    "a1=Account(101,'raju',1000)\n",
    "print(a1.cal_tax())"
   ]
  },
  {
   "cell_type": "code",
   "execution_count": null,
   "id": "a18064a7-dc12-4572-bdcc-79b79ef5507d",
   "metadata": {},
   "outputs": [],
   "source": []
  }
 ],
 "metadata": {
  "kernelspec": {
   "display_name": "Python 3 (ipykernel)",
   "language": "python",
   "name": "python3"
  },
  "language_info": {
   "codemirror_mode": {
    "name": "ipython",
    "version": 3
   },
   "file_extension": ".py",
   "mimetype": "text/x-python",
   "name": "python",
   "nbconvert_exporter": "python",
   "pygments_lexer": "ipython3",
   "version": "3.12.5"
  }
 },
 "nbformat": 4,
 "nbformat_minor": 5
}
