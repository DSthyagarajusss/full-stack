{
 "cells": [
  {
   "cell_type": "code",
   "execution_count": 2,
   "id": "b5887c63-d810-4e0f-8894-423fc415f93c",
   "metadata": {},
   "outputs": [
    {
     "name": "stdin",
     "output_type": "stream",
     "text": [
      "enter frist number 2\n",
      "second number 2\n"
     ]
    },
    {
     "name": "stdout",
     "output_type": "stream",
     "text": [
      "1.0\n",
      "gm\n"
     ]
    }
   ],
   "source": [
    "#without handlers\n",
    "a=int(input('enter frist number'))\n",
    "b=int(input ('second number'))\n",
    "print(a/b)\n",
    "print('gm')"
   ]
  },
  {
   "cell_type": "code",
   "execution_count": null,
   "id": "413499ea-ba0d-4a35-989d-7769a5757dfa",
   "metadata": {},
   "outputs": [],
   "source": []
  }
 ],
 "metadata": {
  "kernelspec": {
   "display_name": "Python 3 (ipykernel)",
   "language": "python",
   "name": "python3"
  },
  "language_info": {
   "codemirror_mode": {
    "name": "ipython",
    "version": 3
   },
   "file_extension": ".py",
   "mimetype": "text/x-python",
   "name": "python",
   "nbconvert_exporter": "python",
   "pygments_lexer": "ipython3",
   "version": "3.12.5"
  }
 },
 "nbformat": 4,
 "nbformat_minor": 5
}
