{
 "cells": [
  {
   "cell_type": "code",
   "execution_count": 6,
   "id": "7bad3f5d-2105-4168-9764-db961bde7dd9",
   "metadata": {},
   "outputs": [
    {
     "name": "stdout",
     "output_type": "stream",
     "text": [
      "<class 'dict'>\n",
      "{'id': 101, 'name': 'rahul', 'age': 21, 'avl': True, 'loc': 'undefine', 'sal': 22222}\n"
     ]
    }
   ],
   "source": [
    "import json \n",
    "\n",
    "emp_json=\"\"\"{ \n",
    "    \"id\":101,\n",
    "    \"name\":\"rahul\",\n",
    "    \"age\":21,\n",
    "    \"avl\":true,\n",
    "    \"loc\":\"undefine\",\n",
    "    \"sal\":22222\n",
    "}\"\"\"\n",
    "emp_obj=json.loads(emp_json)\n",
    "print(type(emp_obj))\n",
    "print(emp_obj)\n",
    "    "
   ]
  },
  {
   "cell_type": "code",
   "execution_count": 9,
   "id": "53d40d01-084f-4e57-aa2c-895198141b29",
   "metadata": {},
   "outputs": [
    {
     "name": "stdout",
     "output_type": "stream",
     "text": [
      "<class 'str'>\n",
      "{\"id\": 101, \"name\": \"rahul\", \"age\": 21, \"avl\": true, \"loc\": \"undefine\", \"sal\": 22222}\n"
     ]
    }
   ],
   "source": [
    "import json \n",
    "emp_dict={'id': 101, 'name': 'rahul', 'age': 21, 'avl': True, 'loc': 'undefine', 'sal': 22222}\n",
    "emp_obj=json.dumps(emp_dict)\n",
    "print(type(emp_obj))\n",
    "print(emp_obj)"
   ]
  },
  {
   "cell_type": "code",
   "execution_count": null,
   "id": "10a82f1a-83c1-4bc7-b5a1-cb1b682bdae1",
   "metadata": {},
   "outputs": [],
   "source": []
  }
 ],
 "metadata": {
  "kernelspec": {
   "display_name": "Python 3 (ipykernel)",
   "language": "python",
   "name": "python3"
  },
  "language_info": {
   "codemirror_mode": {
    "name": "ipython",
    "version": 3
   },
   "file_extension": ".py",
   "mimetype": "text/x-python",
   "name": "python",
   "nbconvert_exporter": "python",
   "pygments_lexer": "ipython3",
   "version": "3.12.5"
  }
 },
 "nbformat": 4,
 "nbformat_minor": 5
}
