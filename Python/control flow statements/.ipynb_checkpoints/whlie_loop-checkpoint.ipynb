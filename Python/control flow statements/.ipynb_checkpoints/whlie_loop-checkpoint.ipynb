{
 "cells": [
  {
   "cell_type": "code",
   "execution_count": 1,
   "id": "c1585c0f-521c-4d89-8d82-0ccc22ffa9d2",
   "metadata": {},
   "outputs": [
    {
     "name": "stdout",
     "output_type": "stream",
     "text": [
      "gm\n",
      "gm\n",
      "gm\n",
      "gm\n",
      "gm\n",
      "gm\n",
      "gm\n",
      "gm\n",
      "gm\n",
      "gm\n",
      "gm\n",
      "gm\n",
      "gm\n",
      "gm\n",
      "gm\n",
      "gm\n",
      "gm\n",
      "gm\n",
      "gm\n",
      "gm\n"
     ]
    }
   ],
   "source": [
    "#print gm 20 time\n",
    "i=1\n",
    "while i<=20:\n",
    "    print('gm')\n",
    "    i=i+1"
   ]
  },
  {
   "cell_type": "code",
   "execution_count": 2,
   "id": "1bdca97c-66c2-405f-a523-75dd1c445e30",
   "metadata": {},
   "outputs": [
    {
     "name": "stdout",
     "output_type": "stream",
     "text": [
      "1011121314151617181920212223242526272829303132333435363738394041424344454647484950"
     ]
    }
   ],
   "source": [
    "#print 10 to 50\n",
    "i=10\n",
    "while i<=50:\n",
    "    print(i,end='')\n",
    "    i=i+1"
   ]
  },
  {
   "cell_type": "code",
   "execution_count": 3,
   "id": "6c554adc-e257-4f04-945e-a80b231b8424",
   "metadata": {},
   "outputs": [
    {
     "name": "stdout",
     "output_type": "stream",
     "text": [
      "024681012141618"
     ]
    }
   ],
   "source": [
    "#print 10 even numbers\n",
    "i=0\n",
    "while i<=18:\n",
    "    print(i,end='')\n",
    "    i=i+2"
   ]
  },
  {
   "cell_type": "code",
   "execution_count": 4,
   "id": "98ca2b61-c52d-4bb0-915f-4a39c691b0b3",
   "metadata": {},
   "outputs": [
    {
     "name": "stdout",
     "output_type": "stream",
     "text": [
      "100999897969594939291908988878685848382818079787776757473727170696867666564636261605958575655545352515049484746454443424140393837363534333231302928272625242322212019181716151413121110987654321"
     ]
    }
   ],
   "source": [
    "#print 100 t0 1\n",
    "i=100\n",
    "while i>=1:\n",
    "    print(i,end='')\n",
    "    i=i-1"
   ]
  },
  {
   "cell_type": "code",
   "execution_count": null,
   "id": "cba00561-31e1-4562-8f39-95d2b99225df",
   "metadata": {},
   "outputs": [],
   "source": [
    "#print 5 table\n",
    "i=1\n",
    "while i<=10:\n",
    "    print('5*',i,'=',i*5)\n",
    "    i=i+1"
   ]
  },
  {
   "cell_type": "code",
   "execution_count": null,
   "id": "7cc722f4-7acc-4182-a9cc-1ba344675398",
   "metadata": {},
   "outputs": [],
   "source": []
  },
  {
   "cell_type": "code",
   "execution_count": null,
   "id": "faa3d9f4-6eb9-472e-bafc-b897e5af5420",
   "metadata": {},
   "outputs": [],
   "source": []
  },
  {
   "cell_type": "code",
   "execution_count": null,
   "id": "5d0e7b61-24cf-4d8c-bf18-42b287d66b3b",
   "metadata": {},
   "outputs": [],
   "source": [
    "i=0 \n",
    "while i<=10 :\n",
    "    if i==5 :\n",
    "        i += 1\n",
    "        continue\n",
    "    print(i)\n",
    "    i+=1"
   ]
  },
  {
   "cell_type": "code",
   "execution_count": null,
   "id": "2667b86f-265a-4432-88a9-64c865af90f6",
   "metadata": {},
   "outputs": [],
   "source": []
  }
 ],
 "metadata": {
  "kernelspec": {
   "display_name": "Python 3 (ipykernel)",
   "language": "python",
   "name": "python3"
  },
  "language_info": {
   "codemirror_mode": {
    "name": "ipython",
    "version": 3
   },
   "file_extension": ".py",
   "mimetype": "text/x-python",
   "name": "python",
   "nbconvert_exporter": "python",
   "pygments_lexer": "ipython3",
   "version": "3.12.5"
  }
 },
 "nbformat": 4,
 "nbformat_minor": 5
}
